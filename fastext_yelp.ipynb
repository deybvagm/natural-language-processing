{
  "nbformat": 4,
  "nbformat_minor": 0,
  "metadata": {
    "colab": {
      "name": "fastext-yelp.ipynb",
      "version": "0.3.2",
      "provenance": [],
      "collapsed_sections": [],
      "include_colab_link": true
    },
    "kernelspec": {
      "name": "python3",
      "display_name": "Python 3"
    },
    "accelerator": "GPU"
  },
  "cells": [
    {
      "cell_type": "markdown",
      "metadata": {
        "id": "view-in-github",
        "colab_type": "text"
      },
      "source": [
        "<a href=\"https://colab.research.google.com/github/deybvagm/natural-language-processing/blob/master/fastext_yelp.ipynb\" target=\"_parent\"><img src=\"https://colab.research.google.com/assets/colab-badge.svg\" alt=\"Open In Colab\"/></a>"
      ]
    },
    {
      "cell_type": "markdown",
      "metadata": {
        "id": "xxchhraOb8pM",
        "colab_type": "text"
      },
      "source": [
        "# Procesamiento de lenguaje natural con el conjunto de datos Yelp y la librería fasttest\n",
        "\n",
        "[Yelp](https://www.yelp.com/)  es una plataforma que permite a usuarios hacer reviews de servicios ofrecidos por empresas. Por ejemplo se puede encontrar reviews de restaurantes, parqueaderos, empresas que ofrecen servicios para el hogar como plomería, electricistas, entre otros. Yelp ha proporcionado una base de datos de 4.7 millones re reviews para que pueda srvir como referencia cuando se trabaja con modelos de procesamiento de lenguaje natural. \n",
        "\n",
        "[Fasttext](https://fasttext.cc/) es una librería de procesamiento de lenguaje natural creada por el laboratorio de inteligencia artificial de facebook. En este caso específico, será utilizada para clasificar los reviews de usuarios en una de 5 posibles categorias (numero de estrellas con el que el usuario valora un producto o servicio en Yelp)"
      ]
    },
    {
      "cell_type": "markdown",
      "metadata": {
        "id": "D93f-qwNEunH",
        "colab_type": "text"
      },
      "source": [
        "### Instalación de librería para procesamiento de texto"
      ]
    },
    {
      "cell_type": "code",
      "metadata": {
        "id": "UBj022WmG-EI",
        "colab_type": "code",
        "outputId": "a1ad3b53-549b-4b92-b6e5-d2e370601ae3",
        "colab": {
          "base_uri": "https://localhost:8080/",
          "height": 238
        }
      },
      "source": [
        "! pip install fasttext"
      ],
      "execution_count": 0,
      "outputs": [
        {
          "output_type": "stream",
          "text": [
            "Collecting fasttext\n",
            "\u001b[?25l  Downloading https://files.pythonhosted.org/packages/10/61/2e01f1397ec533756c1d893c22d9d5ed3fce3a6e4af1976e0d86bb13ea97/fasttext-0.9.1.tar.gz (57kB)\n",
            "\u001b[K     |████████████████████████████████| 61kB 1.2MB/s \n",
            "\u001b[?25hRequirement already satisfied: pybind11>=2.2 in /usr/local/lib/python3.6/dist-packages (from fasttext) (2.3.0)\n",
            "Requirement already satisfied: setuptools>=0.7.0 in /usr/local/lib/python3.6/dist-packages (from fasttext) (41.0.1)\n",
            "Requirement already satisfied: numpy in /usr/local/lib/python3.6/dist-packages (from fasttext) (1.16.4)\n",
            "Building wheels for collected packages: fasttext\n",
            "  Building wheel for fasttext (setup.py) ... \u001b[?25l\u001b[?25hdone\n",
            "  Created wheel for fasttext: filename=fasttext-0.9.1-cp36-cp36m-linux_x86_64.whl size=2382781 sha256=faf1a0a3398deb4c386b65c882507eefecf08a59b53ccd636754481ed76dc769\n",
            "  Stored in directory: /root/.cache/pip/wheels/9f/f0/04/caa82c912aee89ce76358ff954f3f0729b7577c8ff23a292e3\n",
            "Successfully built fasttext\n",
            "Installing collected packages: fasttext\n",
            "Successfully installed fasttext-0.9.1\n"
          ],
          "name": "stdout"
        }
      ]
    },
    {
      "cell_type": "markdown",
      "metadata": {
        "id": "Dc0tRV3QFROd",
        "colab_type": "text"
      },
      "source": [
        "### Integración con Google Drive\n",
        "Es de utilidad ya que el modelo esta almacenado en Drive y por lo tanto para hacer uso de él podemos hacer esta integración con el fin de acceder a los datos que allí se tengan"
      ]
    },
    {
      "cell_type": "code",
      "metadata": {
        "id": "YeXCEdzLIq6z",
        "colab_type": "code",
        "outputId": "5b5b4b4a-ac68-4492-e50a-4ae515fc1530",
        "colab": {
          "base_uri": "https://localhost:8080/",
          "height": 122
        }
      },
      "source": [
        "from google.colab import drive\n",
        "drive.mount('/content/drive')"
      ],
      "execution_count": 0,
      "outputs": [
        {
          "output_type": "stream",
          "text": [
            "Go to this URL in a browser: https://accounts.google.com/o/oauth2/auth?client_id=947318989803-6bn6qk8qdgf4n4g3pfee6491hc0brc4i.apps.googleusercontent.com&redirect_uri=urn%3Aietf%3Awg%3Aoauth%3A2.0%3Aoob&scope=email%20https%3A%2F%2Fwww.googleapis.com%2Fauth%2Fdocs.test%20https%3A%2F%2Fwww.googleapis.com%2Fauth%2Fdrive%20https%3A%2F%2Fwww.googleapis.com%2Fauth%2Fdrive.photos.readonly%20https%3A%2F%2Fwww.googleapis.com%2Fauth%2Fpeopleapi.readonly&response_type=code\n",
            "\n",
            "Enter your authorization code:\n",
            "··········\n",
            "Mounted at /content/drive\n"
          ],
          "name": "stdout"
        }
      ]
    },
    {
      "cell_type": "markdown",
      "metadata": {
        "id": "BbUJe5Y7GpVF",
        "colab_type": "text"
      },
      "source": [
        "Ahora nos vamos a la carpeta de Drive donde está almacenado el modelo"
      ]
    },
    {
      "cell_type": "code",
      "metadata": {
        "id": "Z8z0n0tnJH0Y",
        "colab_type": "code",
        "outputId": "294db6cd-3691-4272-af91-e3883ecaa5b7",
        "colab": {
          "base_uri": "https://localhost:8080/",
          "height": 34
        }
      },
      "source": [
        "%cd drive/My\\ Drive/nlp"
      ],
      "execution_count": 0,
      "outputs": [
        {
          "output_type": "stream",
          "text": [
            "/content/drive/My Drive/nlp\n"
          ],
          "name": "stdout"
        }
      ]
    },
    {
      "cell_type": "code",
      "metadata": {
        "id": "j9iA0qJ1V01a",
        "colab_type": "code",
        "outputId": "9a03a49b-29e1-46d4-c9cc-f125d68d0f16",
        "colab": {
          "base_uri": "https://localhost:8080/",
          "height": 68
        }
      },
      "source": [
        "! ls"
      ],
      "execution_count": 0,
      "outputs": [
        {
          "output_type": "stream",
          "text": [
            " aclImdb_pred   proc_data\t\t     'xlnet commands.txt'\n",
            " exp\t        xlnet\t\t\t      yelp\n",
            " predictions    xlnet_cased_L-12_H-768_A-12   yelp_model\n"
          ],
          "name": "stdout"
        }
      ]
    },
    {
      "cell_type": "markdown",
      "metadata": {
        "id": "Vr__zLleG8Xe",
        "colab_type": "text"
      },
      "source": [
        "### Import de librerías a usar y definición de funciones auxiliares para pre-procesamiento de texto\n",
        "\n",
        "La función auxiliar es encargada de convertir el texto a minúsculas y además de dejar el texto en un formato que pueda ser leído por la librería `fasttext`.  Por ejemplo un texto como **`El restaurante esmuy bueno!`** es  convertido en **`__label__5 el restaurante es muy bueno!`**"
      ]
    },
    {
      "cell_type": "code",
      "metadata": {
        "id": "I8rCiw7d9phG",
        "colab_type": "code",
        "colab": {}
      },
      "source": [
        "import fasttext\n",
        "import re\n",
        "\n",
        "def strip_formatting(string):\n",
        "    string = string.lower()\n",
        "    string = re.sub(r\"([.!?,'/()])\", r\" \\1 \", string)\n",
        "    return string"
      ],
      "execution_count": 0,
      "outputs": []
    },
    {
      "cell_type": "markdown",
      "metadata": {
        "id": "EkwAX25zXYIR",
        "colab_type": "text"
      },
      "source": [
        "### Entrenamiento del modelo de Machine Learning\n",
        "\n",
        "Para entrenar el modelo de machine learning se requiere la información de las reviews de clientes junto con su calificación (número de estrellas). Además de esto es necesario dividir los datos en dos conjuntos, uno de entrenamiento con el cual se realiza el aprendizaje, y el otro de pruebas usado para hacer la evaluación del modelo obtenido. Una vez realizado el entrenamiento, se guarda el modelo en una ruta indicada (en este caso una ruta en Google Drive)"
      ]
    },
    {
      "cell_type": "code",
      "metadata": {
        "id": "lPPqqssoYohD",
        "colab_type": "code",
        "colab": {}
      },
      "source": [
        "import json\n",
        "from pathlib import Path\n",
        "import random\n",
        "\n",
        "reviews_data = Path(\"yelp\") / \"review.json\"\n",
        "training_data = Path(\"yelp\") / \"fasttext_dataset_training.txt\"\n",
        "test_data = Path(\"yelp\") / \"fasttext_dataset_test.txt\"\n",
        "\n",
        "# What percent of data to save separately as test data\n",
        "percent_test_data = 0.10\n",
        "\n",
        "with reviews_data.open() as input, \\\n",
        "     training_data.open(\"w\") as train_output, \\\n",
        "     test_data.open(\"w\") as test_output:\n",
        "\n",
        "    for line in input:\n",
        "        review_data = json.loads(line)\n",
        "\n",
        "        rating = review_data['stars']\n",
        "        text = review_data['text'].replace(\"\\n\", \" \")\n",
        "        text = strip_formatting(text)\n",
        "\n",
        "        fasttext_line = \"__label__{} {}\".format(rating, text)\n",
        "\n",
        "        if random.random() <= percent_test_data:\n",
        "            test_output.write(fasttext_line + \"\\n\")\n",
        "        else:\n",
        "            train_output.write(fasttext_line + \"\\n\")"
      ],
      "execution_count": 0,
      "outputs": []
    },
    {
      "cell_type": "code",
      "metadata": {
        "id": "yA8WtgwucIxD",
        "colab_type": "code",
        "colab": {}
      },
      "source": [
        "model = fasttext.train_supervised('yelp/fasttext_dataset_training.txt', word_ngrams=2)\n"
      ],
      "execution_count": 0,
      "outputs": []
    },
    {
      "cell_type": "code",
      "metadata": {
        "id": "c0c-Qaoc1tyC",
        "colab_type": "code",
        "colab": {}
      },
      "source": [
        "model.save_model('yelp_model/yelp_model.bin')"
      ],
      "execution_count": 0,
      "outputs": []
    },
    {
      "cell_type": "code",
      "metadata": {
        "id": "oaxc2tyR2sMc",
        "colab_type": "code",
        "outputId": "2d97333f-66a4-4a6d-f9a6-a46e05c8cac9",
        "colab": {
          "base_uri": "https://localhost:8080/",
          "height": 153
        }
      },
      "source": [
        "!ls"
      ],
      "execution_count": 0,
      "outputs": [
        {
          "output_type": "stream",
          "text": [
            "aclImdb\t\t\t       proc_data\n",
            "aclImdb_pred\t\t       xlnet\n",
            "aclImdb_v1.tar.gz\t       xlnet_cased_L-12_H-768_A-12\n",
            "cased_L-12_H-768_A-12.zip      xlnet_cased_L-24_H-1024_A-16\n",
            "cased_L-24_H-1024_A-16.zip     yelp\n",
            "exp\t\t\t       yelp_dataset.tar\n",
            "fasttext_dataset_training.txt  yelp_model.bin\n",
            "predictions\n"
          ],
          "name": "stdout"
        }
      ]
    },
    {
      "cell_type": "markdown",
      "metadata": {
        "id": "cMC1FrwnKH0q",
        "colab_type": "text"
      },
      "source": [
        "### Predicciones sobre el modelo\n",
        "\n",
        "Con el modelo creado y almacenado en disco, ahora es posible realizar predicciones sobre nuevos reviews para identificar automáticamente el número de estrellas que el modelo asignaría a los reviews. Es importante que para los nuevos reviews se haga un pre-procesamiento de los datos para dejarlos en el formato que exige la librería"
      ]
    },
    {
      "cell_type": "code",
      "metadata": {
        "id": "osXeCqK3He-4",
        "colab_type": "code",
        "outputId": "73e3f343-af98-4656-c557-bb7c71f52445",
        "colab": {
          "base_uri": "https://localhost:8080/",
          "height": 187
        }
      },
      "source": [
        "# Reviews to check\n",
        "reviews = [\n",
        "    \"This restaurant literally changed my life. This is the best food I've ever eaten!\",\n",
        "    \"I hate this place so much. They were mean to me.\",\n",
        "    \"I don't know. It was ok, I guess. Not really sure what to say.\"\n",
        "]\n",
        "\n",
        "# Pre-process the text of each review so it matches the training format\n",
        "preprocessed_reviews = list(map(strip_formatting, reviews))\n",
        "\n",
        "# Load the model\n",
        "classifier = fasttext.load_model('yelp_model/yelp_model.bin')\n",
        "\n",
        "# Get fastText to classify each review with the model\n",
        "labels, probabilities = classifier.predict(preprocessed_reviews, 1)\n",
        "\n",
        "# Print the results\n",
        "for review, label, probability in zip(reviews, labels, probabilities):\n",
        "    stars = int(label[0][-3])\n",
        "\n",
        "    print(\"{} stars ({}% confidence)\".format(stars, int(probability[0] * 100)))\n",
        "    print(review)\n",
        "    print()"
      ],
      "execution_count": 0,
      "outputs": [
        {
          "output_type": "stream",
          "text": [
            "5 stars (100% confidence)\n",
            "This restaurant literally changed my life. This is the best food I've ever eaten!\n",
            "\n",
            "1 stars (98% confidence)\n",
            "I hate this place so much. They were mean to me.\n",
            "\n",
            "3 stars (69% confidence)\n",
            "I don't know. It was ok, I guess. Not really sure what to say.\n",
            "\n"
          ],
          "name": "stdout"
        },
        {
          "output_type": "stream",
          "text": [
            "\n"
          ],
          "name": "stderr"
        }
      ]
    },
    {
      "cell_type": "markdown",
      "metadata": {
        "id": "Vpzt7068LMiZ",
        "colab_type": "text"
      },
      "source": [
        "### Descarga del modelo\n",
        "\n",
        "La siguiente instrucción realiza la descarga del modelo"
      ]
    },
    {
      "cell_type": "code",
      "metadata": {
        "id": "I0_MW-IW5qvu",
        "colab_type": "code",
        "colab": {}
      },
      "source": [
        "from google.colab import files\n",
        "files.download('yelp/yelp_model.bin') "
      ],
      "execution_count": 0,
      "outputs": []
    },
    {
      "cell_type": "markdown",
      "metadata": {
        "id": "G6woQfghLjIF",
        "colab_type": "text"
      },
      "source": [
        "### ¿Qué tan bueno es el modelo para realizar predicciones?\n",
        "\n",
        "El siguiente paso es determinar la capacidad del modelo para hacer predicciones sobre reviews que no ha visto. Para esto se usa el conjunto de datos de prueba"
      ]
    },
    {
      "cell_type": "code",
      "metadata": {
        "id": "gRT4GyyOL7__",
        "colab_type": "code",
        "outputId": "c56e3c48-1ea9-499b-d641-63ba971f33e2",
        "colab": {
          "base_uri": "https://localhost:8080/",
          "height": 34
        }
      },
      "source": [
        "eval = classifier.test('yelp/fasttext_dataset_test.txt')\n",
        "print(eval)"
      ],
      "execution_count": 0,
      "outputs": [
        {
          "output_type": "stream",
          "text": [
            "(668564, 0.7293123769751287, 0.7293123769751287)\n"
          ],
          "name": "stdout"
        }
      ]
    },
    {
      "cell_type": "markdown",
      "metadata": {
        "id": "QPgDQPTqiadU",
        "colab_type": "text"
      },
      "source": [
        "El resultado nos dice que se evaluaron 668.564 reviews, de las cuales el modelo dice que el 72% de ellas fueron exactamente bien clasificadas de acuerdo al número de estrellas. "
      ]
    },
    {
      "cell_type": "markdown",
      "metadata": {
        "id": "fvz_LJ-bkobU",
        "colab_type": "text"
      },
      "source": [
        "Tambien podemos decirle al modelo que para cualquier review, me de dos posibles opciones de respuesta (numero de estrellas) que él crea se ajustan más. Por ejemplo \"El review .... podría ser de 4 o 5 estrellas\""
      ]
    },
    {
      "cell_type": "code",
      "metadata": {
        "id": "FlN6opIShiUV",
        "colab_type": "code",
        "outputId": "8ecc767c-61e2-4d1e-ce52-c7eb5c147dc9",
        "colab": {
          "base_uri": "https://localhost:8080/",
          "height": 34
        }
      },
      "source": [
        "eval = classifier.test('yelp/fasttext_dataset_test.txt', 2)\n",
        "print(eval)"
      ],
      "execution_count": 0,
      "outputs": [
        {
          "output_type": "stream",
          "text": [
            "(668564, 0.4702788364315159, 0.9405576728630318)\n"
          ],
          "name": "stdout"
        }
      ]
    },
    {
      "cell_type": "markdown",
      "metadata": {
        "id": "khoH77S8mEFH",
        "colab_type": "text"
      },
      "source": [
        "El resultado nos dice que se evaluaron 668.564 reviews, de las cuales el modelo dice que el 94% de ellas fueron bien clasificadas de acuerdo a las dos predicciones que el cree más aproximadas."
      ]
    },
    {
      "cell_type": "code",
      "metadata": {
        "id": "hke1D54Lk3aA",
        "colab_type": "code",
        "colab": {}
      },
      "source": [
        ""
      ],
      "execution_count": 0,
      "outputs": []
    }
  ]
}