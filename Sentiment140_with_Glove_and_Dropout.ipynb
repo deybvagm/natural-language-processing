{
  "nbformat": 4,
  "nbformat_minor": 0,
  "metadata": {
    "colab": {
      "name": "Sentiment140 with Glove and Dropout.ipynb",
      "version": "0.3.2",
      "provenance": [],
      "collapsed_sections": [],
      "toc_visible": true,
      "include_colab_link": true
    },
    "kernelspec": {
      "name": "python3",
      "display_name": "Python 3"
    },
    "accelerator": "GPU"
  },
  "cells": [
    {
      "cell_type": "markdown",
      "metadata": {
        "id": "view-in-github",
        "colab_type": "text"
      },
      "source": [
        "<a href=\"https://colab.research.google.com/github/deybvagm/natural-language-processing/blob/master/Sentiment140_with_Glove_and_Dropout.ipynb\" target=\"_parent\"><img src=\"https://colab.research.google.com/assets/colab-badge.svg\" alt=\"Open In Colab\"/></a>"
      ]
    },
    {
      "cell_type": "markdown",
      "metadata": {
        "id": "R8AzbPmwpx5C",
        "colab_type": "text"
      },
      "source": [
        "# Sentiment140 dataset with Dropout and pretrained word embeddings\n",
        "\n",
        "This is a dataset with sentiments extracted from twitter. There are 1.600.000 tweets, each annotated as 0=negative or 4=positive to perform a sentiment classification task. You can download the dataset from [kaggle](https://www.kaggle.com/kazanova/sentiment140) but in this notebook we downloaded a cleaned versión from this [location](https://storage.googleapis.com/laurencemoroney-blog.appspot.com/training_cleaned.csv)\n",
        "\n",
        "We are going to use Dropout regularization to combat overfitting as well as a pretrained GloVe word embeddings "
      ]
    },
    {
      "cell_type": "code",
      "metadata": {
        "id": "hmA6EzkQJ5jt",
        "colab_type": "code",
        "colab": {}
      },
      "source": [
        "import json\n",
        "import tensorflow as tf\n",
        "import csv\n",
        "import random\n",
        "import numpy as np\n",
        "\n",
        "from tensorflow.keras.preprocessing.text import Tokenizer\n",
        "from tensorflow.keras.preprocessing.sequence import pad_sequences\n",
        "from tensorflow.keras.utils import to_categorical\n",
        "from tensorflow.keras import regularizers"
      ],
      "execution_count": 0,
      "outputs": []
    },
    {
      "cell_type": "markdown",
      "metadata": {
        "id": "WVUd4b_twR0a",
        "colab_type": "text"
      },
      "source": [
        "## Hyperparameters"
      ]
    },
    {
      "cell_type": "code",
      "metadata": {
        "id": "gbVnWx7asoaW",
        "colab_type": "code",
        "colab": {}
      },
      "source": [
        "\n",
        "embedding_dim = 100\n",
        "max_length = 16\n",
        "trunc_type='post'\n",
        "padding_type='post'\n",
        "oov_tok = \"<OOV>\"\n",
        "training_size=500000 #160000\n",
        "test_portion=.1\n",
        "\n"
      ],
      "execution_count": 0,
      "outputs": []
    },
    {
      "cell_type": "code",
      "metadata": {
        "id": "4y-KDFRFUfss",
        "colab_type": "code",
        "colab": {}
      },
      "source": [
        "# vocab_size = 50000"
      ],
      "execution_count": 0,
      "outputs": []
    },
    {
      "cell_type": "markdown",
      "metadata": {
        "id": "xOh6SdoNwczx",
        "colab_type": "text"
      },
      "source": [
        "## Downloading dataset"
      ]
    },
    {
      "cell_type": "code",
      "metadata": {
        "id": "LzmQo9B_umkM",
        "colab_type": "code",
        "outputId": "30e3572b-cec1-479f-c1da-e622a5d52123",
        "colab": {
          "base_uri": "https://localhost:8080/",
          "height": 204
        }
      },
      "source": [
        "# Note that I cleaned the Stanford dataset to remove LATIN1 encoding to make it easier for Python CSV reader\n",
        "# You can do that yourself with:\n",
        "# iconv -f LATIN1 -t UTF8 training.1600000.processed.noemoticon.csv -o training_cleaned.csv\n",
        "# I then hosted it on my site to make it easier to use in this notebook\n",
        "\n",
        "!wget --no-check-certificate \\\n",
        "    https://storage.googleapis.com/laurencemoroney-blog.appspot.com/training_cleaned.csv \\\n",
        "    -O /tmp/training_cleaned.csv\n"
      ],
      "execution_count": 0,
      "outputs": [
        {
          "output_type": "stream",
          "text": [
            "--2019-09-04 10:39:20--  https://storage.googleapis.com/laurencemoroney-blog.appspot.com/training_cleaned.csv\n",
            "Resolving storage.googleapis.com (storage.googleapis.com)... 74.125.140.128, 2a00:1450:400c:c07::80\n",
            "Connecting to storage.googleapis.com (storage.googleapis.com)|74.125.140.128|:443... connected.\n",
            "HTTP request sent, awaiting response... 200 OK\n",
            "Length: 238942690 (228M) [application/octet-stream]\n",
            "Saving to: ‘/tmp/training_cleaned.csv’\n",
            "\n",
            "/tmp/training_clean 100%[===================>] 227.87M  92.9MB/s    in 2.5s    \n",
            "\n",
            "2019-09-04 10:39:22 (92.9 MB/s) - ‘/tmp/training_cleaned.csv’ saved [238942690/238942690]\n",
            "\n"
          ],
          "name": "stdout"
        }
      ]
    },
    {
      "cell_type": "code",
      "metadata": {
        "id": "bM0l_dORKqE0",
        "colab_type": "code",
        "colab": {}
      },
      "source": [
        "corpus = []\n",
        "num_sentences = 0\n",
        "\n",
        "with open(\"/tmp/training_cleaned.csv\") as csvfile:\n",
        "    reader = csv.reader(csvfile, delimiter=',')\n",
        "    for row in reader:\n",
        "        list_item=[]\n",
        "        list_item.append(row[5])\n",
        "        this_label=row[0]\n",
        "        if this_label=='0':\n",
        "            list_item.append(0)\n",
        "        else:\n",
        "            list_item.append(1)\n",
        "        num_sentences = num_sentences + 1\n",
        "        corpus.append(list_item)\n",
        "\n",
        "\n"
      ],
      "execution_count": 0,
      "outputs": []
    },
    {
      "cell_type": "code",
      "metadata": {
        "id": "3kxblBUjEUX-",
        "colab_type": "code",
        "outputId": "cd8635ba-70f5-4b70-ae7d-4c9aed506b4b",
        "colab": {
          "base_uri": "https://localhost:8080/",
          "height": 68
        }
      },
      "source": [
        "print(num_sentences)\n",
        "print(len(corpus))\n",
        "print(corpus[1])\n",
        "\n",
        "# Expected Output:\n",
        "# 1600000\n",
        "# 1600000\n",
        "# [\"is upset that he can't update his Facebook by texting it... and might cry as a result  School today also. Blah!\", 0]"
      ],
      "execution_count": 0,
      "outputs": [
        {
          "output_type": "stream",
          "text": [
            "1600000\n",
            "1600000\n",
            "[\"is upset that he can't update his Facebook by texting it... and might cry as a result  School today also. Blah!\", 0]\n"
          ],
          "name": "stdout"
        }
      ]
    },
    {
      "cell_type": "markdown",
      "metadata": {
        "id": "kY5SN2L5nstE",
        "colab_type": "text"
      },
      "source": [
        "## Text preprocessing"
      ]
    },
    {
      "cell_type": "code",
      "metadata": {
        "id": "ohOGz24lsNAD",
        "colab_type": "code",
        "colab": {}
      },
      "source": [
        "training_sentences = []\n",
        "training_labels = []\n",
        "\n",
        "validation_sentences = []\n",
        "validation_labels = []\n",
        "\n",
        "split = int(test_portion * training_size)\n",
        "\n",
        "random.shuffle(corpus)\n",
        "for x in range(training_size + split):\n",
        "  if x < training_size:    \n",
        "    training_sentences.append(corpus[x][0])\n",
        "    training_labels.append(corpus[x][1])\n",
        "  else:\n",
        "    validation_sentences.append(corpus[x][0])\n",
        "    validation_labels.append(corpus[x][1])\n",
        "  \n",
        "\n",
        "tokenizer = Tokenizer()\n",
        "# tokenizer = Tokenizer(num_words=vocab_size, oov_token=oov_tok)\n",
        "tokenizer.fit_on_texts(training_sentences)\n",
        "\n",
        "word_index = tokenizer.word_index\n",
        "vocab_size=len(word_index)\n",
        "\n",
        "training_sequences = tokenizer.texts_to_sequences(training_sentences)\n",
        "training_padded = pad_sequences(training_sequences, maxlen=max_length, padding=padding_type, truncating=trunc_type)\n",
        "\n",
        "validation_sequences = tokenizer.texts_to_sequences(validation_sentences)\n",
        "validation_padded = pad_sequences(validation_sequences, maxlen=max_length, padding=padding_type, truncating=trunc_type)\n",
        "\n"
      ],
      "execution_count": 0,
      "outputs": []
    },
    {
      "cell_type": "code",
      "metadata": {
        "id": "DcHHfDM6RroZ",
        "colab_type": "code",
        "outputId": "aebfa95e-0923-4845-8fea-05f0d7257fd9",
        "colab": {
          "base_uri": "https://localhost:8080/",
          "height": 102
        }
      },
      "source": [
        "print(test_portion)\n",
        "print(training_size)\n",
        "print(len(training_sentences))\n",
        "print(len(validation_sentences))\n",
        "print(split)"
      ],
      "execution_count": 0,
      "outputs": [
        {
          "output_type": "stream",
          "text": [
            "0.1\n",
            "500000\n",
            "500000\n",
            "50000\n",
            "50000\n"
          ],
          "name": "stdout"
        }
      ]
    },
    {
      "cell_type": "code",
      "metadata": {
        "id": "gIrtRem1En3N",
        "colab_type": "code",
        "outputId": "c5af51fb-b8d5-4b76-e5a4-895d3bbc9fd0",
        "colab": {
          "base_uri": "https://localhost:8080/",
          "height": 51
        }
      },
      "source": [
        "print(vocab_size)\n",
        "print(word_index['i'])\n",
        "# Expected Output\n",
        "# 138858\n",
        "# 1"
      ],
      "execution_count": 0,
      "outputs": [
        {
          "output_type": "stream",
          "text": [
            "311863\n",
            "1\n"
          ],
          "name": "stdout"
        }
      ]
    },
    {
      "cell_type": "markdown",
      "metadata": {
        "id": "QBlle3oWnlEi",
        "colab_type": "text"
      },
      "source": [
        "## GloVe Embeddings"
      ]
    },
    {
      "cell_type": "code",
      "metadata": {
        "id": "yuExFdrlvkVn",
        "colab_type": "code",
        "outputId": "0aa35c71-a7bb-4c95-dc18-16b417024d96",
        "colab": {
          "base_uri": "https://localhost:8080/",
          "height": 204
        }
      },
      "source": [
        "# Note this is the 100 dimension version of GloVe from Stanford\n",
        "# I unzipped and hosted it on my site to make this notebook easier\n",
        "!wget --no-check-certificate \\\n",
        "    https://storage.googleapis.com/laurencemoroney-blog.appspot.com/glove.6B.100d.txt \\\n",
        "    -O /tmp/glove.6B.100d.txt\n",
        "  \n"
      ],
      "execution_count": 0,
      "outputs": [
        {
          "output_type": "stream",
          "text": [
            "--2019-09-04 10:40:43--  https://storage.googleapis.com/laurencemoroney-blog.appspot.com/glove.6B.100d.txt\n",
            "Resolving storage.googleapis.com (storage.googleapis.com)... 74.125.140.128, 2a00:1450:400c:c00::80\n",
            "Connecting to storage.googleapis.com (storage.googleapis.com)|74.125.140.128|:443... connected.\n",
            "HTTP request sent, awaiting response... 200 OK\n",
            "Length: 347116733 (331M) [text/plain]\n",
            "Saving to: ‘/tmp/glove.6B.100d.txt’\n",
            "\n",
            "/tmp/glove.6B.100d. 100%[===================>] 331.04M  68.0MB/s    in 4.9s    \n",
            "\n",
            "2019-09-04 10:40:48 (66.9 MB/s) - ‘/tmp/glove.6B.100d.txt’ saved [347116733/347116733]\n",
            "\n"
          ],
          "name": "stdout"
        }
      ]
    },
    {
      "cell_type": "code",
      "metadata": {
        "id": "w_fvhI76vtQz",
        "colab_type": "code",
        "colab": {}
      },
      "source": [
        "embeddings_index = {};\n",
        "with open('/tmp/glove.6B.100d.txt') as f:\n",
        "    for line in f:\n",
        "        values = line.split();\n",
        "        word = values[0];\n",
        "        coefs = np.asarray(values[1:], dtype='float32');\n",
        "        embeddings_index[word] = coefs;\n"
      ],
      "execution_count": 0,
      "outputs": []
    },
    {
      "cell_type": "code",
      "metadata": {
        "id": "xfd8VEKLVwut",
        "colab_type": "code",
        "colab": {}
      },
      "source": [
        "# reverse_word_index = dict([(num, word) for word, num in word_index.items()])\n",
        "\n",
        "# def get_word(token):\n",
        "#   return reverse_word_index[token]"
      ],
      "execution_count": 0,
      "outputs": []
    },
    {
      "cell_type": "code",
      "metadata": {
        "id": "C1zdgJkusRh0",
        "colab_type": "code",
        "colab": {}
      },
      "source": [
        "\n",
        "embeddings_matrix = np.zeros((vocab_size+1, embedding_dim));\n",
        "for word, i in word_index.items():\n",
        "    embedding_vector = embeddings_index.get(word);\n",
        "    if embedding_vector is not None:\n",
        "        embeddings_matrix[i] = embedding_vector;"
      ],
      "execution_count": 0,
      "outputs": []
    },
    {
      "cell_type": "code",
      "metadata": {
        "id": "i4e0_sQ9XDw-",
        "colab_type": "code",
        "colab": {}
      },
      "source": [
        "# embeddings_matrix = np.zeros((vocab_size+1, embedding_dim));\n",
        "# for i in range(1, vocab_size):\n",
        "#   word = get_word(i)\n",
        "#   embedding_vector = embeddings_index.get(word)\n",
        "#   if embedding_vector is not None:\n",
        "#     embeddings_matrix[i] = embedding_vector\n",
        "    "
      ],
      "execution_count": 0,
      "outputs": []
    },
    {
      "cell_type": "code",
      "metadata": {
        "id": "71NLk_lpFLNt",
        "colab_type": "code",
        "outputId": "21408151-b672-4a99-c8a4-25f1a04b69c6",
        "colab": {
          "base_uri": "https://localhost:8080/",
          "height": 34
        }
      },
      "source": [
        "print(len(embeddings_matrix))\n",
        "# Expected Output\n",
        "# 138859"
      ],
      "execution_count": 0,
      "outputs": [
        {
          "output_type": "stream",
          "text": [
            "311864\n"
          ],
          "name": "stdout"
        }
      ]
    },
    {
      "cell_type": "markdown",
      "metadata": {
        "id": "oUHlWj1qr8qn",
        "colab_type": "text"
      },
      "source": [
        "## Training"
      ]
    },
    {
      "cell_type": "code",
      "metadata": {
        "id": "qxju4ItJKO8F",
        "colab_type": "code",
        "colab": {}
      },
      "source": [
        "import matplotlib.image  as mpimg\n",
        "import matplotlib.pyplot as plt\n",
        "\n",
        "def plot_graph(history, metric):\n",
        "  plt.plot(history.history[metric])\n",
        "  plt.plot(history.history['val_'+metric])\n",
        "  plt.xlabel('Epochs')\n",
        "  plt.ylabel(metric)\n",
        "  plt.legend([metric, 'val_'+metric])\n",
        "  plt.show()\n",
        "  \n",
        "  "
      ],
      "execution_count": 0,
      "outputs": []
    },
    {
      "cell_type": "code",
      "metadata": {
        "id": "KfvtT_abXkm8",
        "colab_type": "code",
        "colab": {}
      },
      "source": [
        "num_epochs = 20"
      ],
      "execution_count": 0,
      "outputs": []
    },
    {
      "cell_type": "markdown",
      "metadata": {
        "id": "HY9OFB9Yl40R",
        "colab_type": "text"
      },
      "source": [
        "### Model with regularization"
      ]
    },
    {
      "cell_type": "code",
      "metadata": {
        "colab_type": "code",
        "id": "iKKvbuEBOGFz",
        "outputId": "cbcbeecf-c3b7-439c-81dd-ad539e9e6f6a",
        "colab": {
          "base_uri": "https://localhost:8080/",
          "height": 802
        }
      },
      "source": [
        "model = tf.keras.Sequential([\n",
        "#     tf.keras.layers.Embedding(vocab_size+1, embedding_dim, input_length=max_length, weights=[embeddings_matrix], trainable=False),\n",
        "#     tf.keras.layers.Embedding(vocab_size+1, embedding_dim, input_length=max_length, weights=[embeddings_matrix], trainable=True),\n",
        "    tf.keras.layers.Embedding(vocab_size+1, embedding_dim, input_length=max_length),\n",
        "    tf.keras.layers.Dropout(0.2),\n",
        "#     tf.keras.layers.Dropout(0.5),\n",
        "    tf.keras.layers.Conv1D(64, 5, activation='relu'),\n",
        "    tf.keras.layers.MaxPooling1D(pool_size=4),\n",
        "    tf.keras.layers.LSTM(64),\n",
        "    tf.keras.layers.Dense(1, activation='sigmoid')\n",
        "])\n",
        "model.compile(loss='binary_crossentropy',optimizer='adam',metrics=['accuracy'])\n",
        "model.summary()\n",
        "\n",
        "\n",
        "history = model.fit(training_padded, training_labels, epochs=num_epochs, validation_data=(validation_padded, validation_labels))\n",
        "\n",
        "print(\"Training Complete\")\n"
      ],
      "execution_count": 0,
      "outputs": [
        {
          "output_type": "stream",
          "text": [
            "WARNING: Logging before flag parsing goes to stderr.\n",
            "W0904 10:41:50.721251 139674395035520 deprecation.py:506] From /usr/local/lib/python3.6/dist-packages/tensorflow/python/keras/initializers.py:119: calling RandomUniform.__init__ (from tensorflow.python.ops.init_ops) with dtype is deprecated and will be removed in a future version.\n",
            "Instructions for updating:\n",
            "Call initializer instance with the dtype argument instead of passing it to the constructor\n",
            "W0904 10:41:50.726685 139674395035520 deprecation.py:506] From /usr/local/lib/python3.6/dist-packages/tensorflow/python/ops/init_ops.py:1251: calling VarianceScaling.__init__ (from tensorflow.python.ops.init_ops) with dtype is deprecated and will be removed in a future version.\n",
            "Instructions for updating:\n",
            "Call initializer instance with the dtype argument instead of passing it to the constructor\n",
            "W0904 10:41:51.122393 139674395035520 deprecation.py:323] From /usr/local/lib/python3.6/dist-packages/tensorflow/python/ops/nn_impl.py:180: add_dispatch_support.<locals>.wrapper (from tensorflow.python.ops.array_ops) is deprecated and will be removed in a future version.\n",
            "Instructions for updating:\n",
            "Use tf.where in 2.0, which has the same broadcast rule as np.where\n"
          ],
          "name": "stderr"
        },
        {
          "output_type": "stream",
          "text": [
            "Model: \"sequential\"\n",
            "_________________________________________________________________\n",
            "Layer (type)                 Output Shape              Param #   \n",
            "=================================================================\n",
            "embedding (Embedding)        (None, 16, 100)           31186400  \n",
            "_________________________________________________________________\n",
            "dropout (Dropout)            (None, 16, 100)           0         \n",
            "_________________________________________________________________\n",
            "conv1d (Conv1D)              (None, 12, 64)            32064     \n",
            "_________________________________________________________________\n",
            "max_pooling1d (MaxPooling1D) (None, 3, 64)             0         \n",
            "_________________________________________________________________\n",
            "lstm (LSTM)                  (None, 64)                33024     \n",
            "_________________________________________________________________\n",
            "dense (Dense)                (None, 1)                 65        \n",
            "=================================================================\n",
            "Total params: 31,251,553\n",
            "Trainable params: 31,251,553\n",
            "Non-trainable params: 0\n",
            "_________________________________________________________________\n",
            "Train on 500000 samples, validate on 50000 samples\n",
            "Epoch 1/20\n",
            "500000/500000 [==============================] - 582s 1ms/sample - loss: 0.4571 - acc: 0.7816 - val_loss: 0.4334 - val_acc: 0.7981\n",
            "Epoch 2/20\n",
            "500000/500000 [==============================] - 581s 1ms/sample - loss: 0.3419 - acc: 0.8509 - val_loss: 0.4608 - val_acc: 0.7893\n",
            "Epoch 3/20\n",
            "500000/500000 [==============================] - 585s 1ms/sample - loss: 0.2504 - acc: 0.8970 - val_loss: 0.5199 - val_acc: 0.7782\n",
            "Epoch 4/20\n",
            "500000/500000 [==============================] - 586s 1ms/sample - loss: 0.1980 - acc: 0.9202 - val_loss: 0.5749 - val_acc: 0.7706\n",
            "Epoch 5/20\n",
            "500000/500000 [==============================] - 711s 1ms/sample - loss: 0.1638 - acc: 0.9343 - val_loss: 0.6179 - val_acc: 0.7684\n",
            "Epoch 6/20\n",
            "500000/500000 [==============================] - 850s 2ms/sample - loss: 0.1402 - acc: 0.9442 - val_loss: 0.6747 - val_acc: 0.7657\n",
            "Epoch 7/20\n",
            "109504/500000 [=====>........................] - ETA: 10:45 - loss: 0.1052 - acc: 0.9591Buffered data was truncated after reaching the output size limit."
          ],
          "name": "stdout"
        }
      ]
    },
    {
      "cell_type": "code",
      "metadata": {
        "id": "__fqowERV73V",
        "colab_type": "code",
        "outputId": "63287626-09bc-4238-c561-0b45cd26fe21",
        "colab": {
          "base_uri": "https://localhost:8080/",
          "height": 549
        }
      },
      "source": [
        "plot_graph(history, 'acc')\n",
        "plot_graph(history, 'loss')"
      ],
      "execution_count": 0,
      "outputs": [
        {
          "output_type": "display_data",
          "data": {
            "image/png": "[encoded data removed]",
            "text/plain": [
              "<Figure size 432x288 with 1 Axes>"
            ]
          },
          "metadata": {
            "tags": []
          }
        },
        {
          "output_type": "display_data",
          "data": {
            "image/png": "[encoded data removed]",
            "text/plain": [
              "<Figure size 432x288 with 1 Axes>"
            ]
          },
          "metadata": {
            "tags": []
          }
        }
      ]
    },
    {
      "cell_type": "code",
      "metadata": {
        "id": "ciEF_PhgV5gA",
        "colab_type": "code",
        "colab": {}
      },
      "source": [
        "# #-----------------------------------------------------------\n",
        "# # Retrieve a list of list results on training and test data\n",
        "# # sets for each training epoch\n",
        "# #-----------------------------------------------------------\n",
        "# acc=history.history['acc']\n",
        "# val_acc=history.history['val_acc']\n",
        "# loss=history.history['loss']\n",
        "# val_loss=history.history['val_loss']\n",
        "\n",
        "# epochs=range(len(acc)) # Get number of epochs\n",
        "\n",
        "# #------------------------------------------------\n",
        "# # Plot training and validation accuracy per epoch\n",
        "# #------------------------------------------------\n",
        "# plt.plot(epochs, acc, 'r')\n",
        "# plt.plot(epochs, val_acc, 'b')\n",
        "# plt.title('Training and validation accuracy')\n",
        "# plt.xlabel(\"Epochs\")\n",
        "# plt.ylabel(\"Accuracy\")\n",
        "# plt.legend([\"Accuracy\", \"Validation Accuracy\"])\n",
        "\n",
        "# plt.figure()\n",
        "\n",
        "# #------------------------------------------------\n",
        "# # Plot training and validation loss per epoch\n",
        "# #------------------------------------------------\n",
        "# plt.plot(epochs, loss, 'r')\n",
        "# plt.plot(epochs, val_loss, 'b')\n",
        "# plt.title('Training and validation loss')\n",
        "# plt.xlabel(\"Epochs\")\n",
        "# plt.ylabel(\"Loss\")\n",
        "# plt.legend([\"Loss\", \"Validation Loss\"])\n",
        "\n",
        "# plt.figure()\n",
        "\n",
        "\n",
        "# # Expected Output\n",
        "# # A chart where the validation loss does not increase sharply!"
      ],
      "execution_count": 0,
      "outputs": []
    },
    {
      "cell_type": "markdown",
      "metadata": {
        "id": "NIJQRciVi4Uq",
        "colab_type": "text"
      },
      "source": [
        "### Simple neural network"
      ]
    },
    {
      "cell_type": "code",
      "metadata": {
        "id": "8SE9MsxYeXwU",
        "colab_type": "code",
        "outputId": "9b8bd5e8-1ca9-48b3-c8c7-43468730f58c",
        "colab": {
          "base_uri": "https://localhost:8080/",
          "height": 1000
        }
      },
      "source": [
        "model = tf.keras.Sequential([\n",
        "    tf.keras.layers.Embedding(vocab_size + 1, embedding_dim, input_length=max_length, weights=[embeddings_matrix], trainable=False),\n",
        "    tf.keras.layers.GlobalAveragePooling1D(),\n",
        "    tf.keras.layers.Dense(6, activation='relu'),\n",
        "    tf.keras.layers.Dense(1, activation='sigmoid')\n",
        "])\n",
        "\n",
        "print(model.summary())\n",
        "\n",
        "model.compile(loss='binary_crossentropy', optimizer='adam', metrics=['accuracy'])\n",
        "history = model.fit(training_padded, training_labels, epochs=num_epochs, validation_data=(validation_padded, validation_labels))"
      ],
      "execution_count": 0,
      "outputs": [
        {
          "output_type": "stream",
          "text": [
            "Model: \"sequential_1\"\n",
            "_________________________________________________________________\n",
            "Layer (type)                 Output Shape              Param #   \n",
            "=================================================================\n",
            "embedding_1 (Embedding)      (None, 16, 100)           31171300  \n",
            "_________________________________________________________________\n",
            "global_average_pooling1d_1 ( (None, 100)               0         \n",
            "_________________________________________________________________\n",
            "dense_2 (Dense)              (None, 6)                 606       \n",
            "_________________________________________________________________\n",
            "dense_3 (Dense)              (None, 1)                 7         \n",
            "=================================================================\n",
            "Total params: 31,171,913\n",
            "Trainable params: 613\n",
            "Non-trainable params: 31,171,300\n",
            "_________________________________________________________________\n",
            "None\n",
            "Train on 500000 samples, validate on 50000 samples\n",
            "Epoch 1/30\n",
            "500000/500000 [==============================] - 57s 113us/sample - loss: 0.5985 - acc: 0.6829 - val_loss: 0.5857 - val_acc: 0.6927\n",
            "Epoch 2/30\n",
            "500000/500000 [==============================] - 56s 112us/sample - loss: 0.5822 - acc: 0.6916 - val_loss: 0.5729 - val_acc: 0.6979\n",
            "Epoch 3/30\n",
            "500000/500000 [==============================] - 55s 110us/sample - loss: 0.5755 - acc: 0.6955 - val_loss: 0.5726 - val_acc: 0.6983\n",
            "Epoch 4/30\n",
            "500000/500000 [==============================] - 55s 111us/sample - loss: 0.5734 - acc: 0.6973 - val_loss: 0.5698 - val_acc: 0.6985\n",
            "Epoch 5/30\n",
            "500000/500000 [==============================] - 55s 111us/sample - loss: 0.5720 - acc: 0.6977 - val_loss: 0.5678 - val_acc: 0.7019\n",
            "Epoch 6/30\n",
            "500000/500000 [==============================] - 56s 112us/sample - loss: 0.5712 - acc: 0.6989 - val_loss: 0.5678 - val_acc: 0.7024\n",
            "Epoch 7/30\n",
            "500000/500000 [==============================] - 56s 111us/sample - loss: 0.5706 - acc: 0.6992 - val_loss: 0.5663 - val_acc: 0.7041\n",
            "Epoch 8/30\n",
            "500000/500000 [==============================] - 55s 111us/sample - loss: 0.5701 - acc: 0.7001 - val_loss: 0.5659 - val_acc: 0.7044\n",
            "Epoch 9/30\n",
            "500000/500000 [==============================] - 56s 113us/sample - loss: 0.5696 - acc: 0.7002 - val_loss: 0.5675 - val_acc: 0.7009\n",
            "Epoch 10/30\n",
            "500000/500000 [==============================] - 55s 109us/sample - loss: 0.5694 - acc: 0.7005 - val_loss: 0.5670 - val_acc: 0.7033\n",
            "Epoch 11/30\n",
            "500000/500000 [==============================] - 54s 109us/sample - loss: 0.5691 - acc: 0.7009 - val_loss: 0.5649 - val_acc: 0.7043\n",
            "Epoch 12/30\n",
            "500000/500000 [==============================] - 54s 109us/sample - loss: 0.5689 - acc: 0.7008 - val_loss: 0.5660 - val_acc: 0.7030\n",
            "Epoch 13/30\n",
            "500000/500000 [==============================] - 54s 108us/sample - loss: 0.5688 - acc: 0.7011 - val_loss: 0.5640 - val_acc: 0.7060\n",
            "Epoch 14/30\n",
            "500000/500000 [==============================] - 54s 109us/sample - loss: 0.5687 - acc: 0.7013 - val_loss: 0.5654 - val_acc: 0.7051\n",
            "Epoch 15/30\n",
            "500000/500000 [==============================] - 54s 109us/sample - loss: 0.5684 - acc: 0.7018 - val_loss: 0.5655 - val_acc: 0.7055\n",
            "Epoch 16/30\n",
            "500000/500000 [==============================] - 54s 109us/sample - loss: 0.5684 - acc: 0.7014 - val_loss: 0.5652 - val_acc: 0.7062\n",
            "Epoch 17/30\n",
            "500000/500000 [==============================] - 54s 109us/sample - loss: 0.5684 - acc: 0.7016 - val_loss: 0.5643 - val_acc: 0.7074\n",
            "Epoch 18/30\n",
            "500000/500000 [==============================] - 54s 107us/sample - loss: 0.5683 - acc: 0.7016 - val_loss: 0.5649 - val_acc: 0.7057\n",
            "Epoch 19/30\n",
            "500000/500000 [==============================] - 54s 109us/sample - loss: 0.5681 - acc: 0.7014 - val_loss: 0.5655 - val_acc: 0.7045\n",
            "Epoch 20/30\n",
            "500000/500000 [==============================] - 54s 109us/sample - loss: 0.5680 - acc: 0.7018 - val_loss: 0.5643 - val_acc: 0.7068\n",
            "Epoch 21/30\n",
            "500000/500000 [==============================] - 54s 108us/sample - loss: 0.5681 - acc: 0.7022 - val_loss: 0.5644 - val_acc: 0.7063\n",
            "Epoch 22/30\n",
            "500000/500000 [==============================] - 54s 109us/sample - loss: 0.5679 - acc: 0.7017 - val_loss: 0.5642 - val_acc: 0.7069\n",
            "Epoch 23/30\n",
            "500000/500000 [==============================] - 56s 111us/sample - loss: 0.5679 - acc: 0.7019 - val_loss: 0.5639 - val_acc: 0.7064\n",
            "Epoch 24/30\n",
            "500000/500000 [==============================] - 55s 111us/sample - loss: 0.5679 - acc: 0.7022 - val_loss: 0.5646 - val_acc: 0.7062\n",
            "Epoch 25/30\n",
            "500000/500000 [==============================] - 55s 109us/sample - loss: 0.5678 - acc: 0.7020 - val_loss: 0.5672 - val_acc: 0.7018\n",
            "Epoch 26/30\n",
            "500000/500000 [==============================] - 55s 109us/sample - loss: 0.5679 - acc: 0.7024 - val_loss: 0.5652 - val_acc: 0.7045\n",
            "Epoch 27/30\n",
            "500000/500000 [==============================] - 55s 109us/sample - loss: 0.5678 - acc: 0.7022 - val_loss: 0.5642 - val_acc: 0.7066\n",
            "Epoch 28/30\n",
            "500000/500000 [==============================] - 54s 109us/sample - loss: 0.5677 - acc: 0.7025 - val_loss: 0.5645 - val_acc: 0.7067\n",
            "Epoch 29/30\n",
            "500000/500000 [==============================] - 54s 109us/sample - loss: 0.5677 - acc: 0.7022 - val_loss: 0.5647 - val_acc: 0.7066\n",
            "Epoch 30/30\n",
            "500000/500000 [==============================] - 54s 109us/sample - loss: 0.5678 - acc: 0.7023 - val_loss: 0.5657 - val_acc: 0.7052\n"
          ],
          "name": "stdout"
        }
      ]
    },
    {
      "cell_type": "code",
      "metadata": {
        "id": "xoT8qaQfWUob",
        "colab_type": "code",
        "outputId": "560875a9-0000-4055-ef72-7fc8d106610a",
        "colab": {
          "base_uri": "https://localhost:8080/",
          "height": 549
        }
      },
      "source": [
        "plot_graph(history, 'acc')\n",
        "plot_graph(history, 'loss')"
      ],
      "execution_count": 0,
      "outputs": [
        {
          "output_type": "display_data",
          "data": {
            "image/png": "[encoded data removed]",
            "text/plain": [
              "<Figure size 432x288 with 1 Axes>"
            ]
          },
          "metadata": {
            "tags": []
          }
        },
        {
          "output_type": "display_data",
          "data": {
            "image/png": "[encoded data removed]",
            "text/plain": [
              "<Figure size 432x288 with 1 Axes>"
            ]
          },
          "metadata": {
            "tags": []
          }
        }
      ]
    },
    {
      "cell_type": "markdown",
      "metadata": {
        "id": "Hp_W_LlVjCP-",
        "colab_type": "text"
      },
      "source": [
        "### CNN\n"
      ]
    },
    {
      "cell_type": "code",
      "metadata": {
        "id": "8nOOKJ8dWeHr",
        "colab_type": "code",
        "outputId": "9359b874-8056-4a7a-d209-0e0cc0efd344",
        "colab": {
          "base_uri": "https://localhost:8080/",
          "height": 1000
        }
      },
      "source": [
        "model = tf.keras.Sequential([\n",
        "    tf.keras.layers.Embedding(vocab_size + 1, embedding_dim, input_length=max_length, weights=[embeddings_matrix], trainable=False),\n",
        "    tf.keras.layers.Conv1D(128, 5, activation='relu'),\n",
        "    tf.keras.layers.GlobalAveragePooling1D(),\n",
        "    tf.keras.layers.Dense(6, activation='relu'),\n",
        "    tf.keras.layers.Dense(1, activation='sigmoid')\n",
        "])\n",
        "\n",
        "print(model.summary())\n",
        "\n",
        "model.compile(loss='binary_crossentropy', optimizer='adam', metrics=['accuracy'])\n",
        "history = model.fit(training_padded, training_labels, epochs=num_epochs, validation_data=(validation_padded, validation_labels))"
      ],
      "execution_count": 0,
      "outputs": [
        {
          "output_type": "stream",
          "text": [
            "Model: \"sequential_2\"\n",
            "_________________________________________________________________\n",
            "Layer (type)                 Output Shape              Param #   \n",
            "=================================================================\n",
            "embedding_2 (Embedding)      (None, 16, 100)           3682200   \n",
            "_________________________________________________________________\n",
            "conv1d_1 (Conv1D)            (None, 12, 128)           64128     \n",
            "_________________________________________________________________\n",
            "global_average_pooling1d_1 ( (None, 128)               0         \n",
            "_________________________________________________________________\n",
            "dense_3 (Dense)              (None, 6)                 774       \n",
            "_________________________________________________________________\n",
            "dense_4 (Dense)              (None, 1)                 7         \n",
            "=================================================================\n",
            "Total params: 3,747,109\n",
            "Trainable params: 64,909\n",
            "Non-trainable params: 3,682,200\n",
            "_________________________________________________________________\n",
            "None\n",
            "Train on 25000 samples, validate on 2500 samples\n",
            "Epoch 1/30\n",
            "25000/25000 [==============================] - 4s 159us/sample - loss: 0.6207 - acc: 0.6557 - val_loss: 0.5939 - val_acc: 0.6680\n",
            "Epoch 2/30\n",
            "25000/25000 [==============================] - 4s 151us/sample - loss: 0.5636 - acc: 0.7064 - val_loss: 0.5609 - val_acc: 0.6996\n",
            "Epoch 3/30\n",
            "25000/25000 [==============================] - 4s 152us/sample - loss: 0.5326 - acc: 0.7328 - val_loss: 0.5565 - val_acc: 0.7136\n",
            "Epoch 4/30\n",
            "25000/25000 [==============================] - 4s 146us/sample - loss: 0.5060 - acc: 0.7491 - val_loss: 0.5438 - val_acc: 0.7188\n",
            "Epoch 5/30\n",
            "25000/25000 [==============================] - 4s 146us/sample - loss: 0.4738 - acc: 0.7733 - val_loss: 0.5488 - val_acc: 0.7168\n",
            "Epoch 6/30\n",
            "25000/25000 [==============================] - 4s 144us/sample - loss: 0.4404 - acc: 0.7950 - val_loss: 0.5432 - val_acc: 0.7256\n",
            "Epoch 7/30\n",
            "25000/25000 [==============================] - 4s 145us/sample - loss: 0.4036 - acc: 0.8165 - val_loss: 0.5579 - val_acc: 0.7204\n",
            "Epoch 8/30\n",
            "25000/25000 [==============================] - 4s 155us/sample - loss: 0.3669 - acc: 0.8383 - val_loss: 0.5982 - val_acc: 0.7088\n",
            "Epoch 9/30\n",
            "25000/25000 [==============================] - 4s 146us/sample - loss: 0.3312 - acc: 0.8580 - val_loss: 0.6530 - val_acc: 0.6912\n",
            "Epoch 10/30\n",
            "25000/25000 [==============================] - 4s 145us/sample - loss: 0.2961 - acc: 0.8773 - val_loss: 0.6401 - val_acc: 0.7148\n",
            "Epoch 11/30\n",
            "25000/25000 [==============================] - 4s 144us/sample - loss: 0.2606 - acc: 0.8940 - val_loss: 0.6637 - val_acc: 0.7276\n",
            "Epoch 12/30\n",
            "25000/25000 [==============================] - 4s 149us/sample - loss: 0.2255 - acc: 0.9109 - val_loss: 0.7001 - val_acc: 0.7092\n",
            "Epoch 13/30\n",
            "25000/25000 [==============================] - 4s 149us/sample - loss: 0.1958 - acc: 0.9238 - val_loss: 0.7295 - val_acc: 0.7220\n",
            "Epoch 14/30\n",
            "25000/25000 [==============================] - 4s 146us/sample - loss: 0.1723 - acc: 0.9343 - val_loss: 0.7817 - val_acc: 0.7088\n",
            "Epoch 15/30\n",
            "25000/25000 [==============================] - 4s 142us/sample - loss: 0.1463 - acc: 0.9468 - val_loss: 0.8508 - val_acc: 0.7056\n",
            "Epoch 16/30\n",
            "25000/25000 [==============================] - 4s 144us/sample - loss: 0.1258 - acc: 0.9565 - val_loss: 0.9074 - val_acc: 0.7104\n",
            "Epoch 17/30\n",
            "25000/25000 [==============================] - 4s 143us/sample - loss: 0.1113 - acc: 0.9607 - val_loss: 1.0083 - val_acc: 0.7056\n",
            "Epoch 18/30\n",
            "25000/25000 [==============================] - 4s 148us/sample - loss: 0.0952 - acc: 0.9682 - val_loss: 1.1033 - val_acc: 0.7084\n",
            "Epoch 19/30\n",
            "25000/25000 [==============================] - 4s 143us/sample - loss: 0.0795 - acc: 0.9737 - val_loss: 1.1955 - val_acc: 0.7044\n",
            "Epoch 20/30\n",
            "25000/25000 [==============================] - 4s 143us/sample - loss: 0.0755 - acc: 0.9734 - val_loss: 1.3580 - val_acc: 0.6992\n",
            "Epoch 21/30\n",
            "25000/25000 [==============================] - 4s 142us/sample - loss: 0.0759 - acc: 0.9728 - val_loss: 1.2376 - val_acc: 0.7004\n",
            "Epoch 22/30\n",
            "25000/25000 [==============================] - 4s 143us/sample - loss: 0.0573 - acc: 0.9813 - val_loss: 1.2943 - val_acc: 0.7056\n",
            "Epoch 23/30\n",
            "25000/25000 [==============================] - 4s 144us/sample - loss: 0.0653 - acc: 0.9770 - val_loss: 1.7065 - val_acc: 0.6944\n",
            "Epoch 24/30\n",
            "25000/25000 [==============================] - 4s 144us/sample - loss: 0.0568 - acc: 0.9808 - val_loss: 1.3514 - val_acc: 0.7024\n",
            "Epoch 25/30\n",
            "25000/25000 [==============================] - 4s 143us/sample - loss: 0.0458 - acc: 0.9846 - val_loss: 1.4518 - val_acc: 0.6960\n",
            "Epoch 26/30\n",
            "25000/25000 [==============================] - 4s 144us/sample - loss: 0.0501 - acc: 0.9822 - val_loss: 1.5803 - val_acc: 0.6972\n",
            "Epoch 27/30\n",
            "25000/25000 [==============================] - 4s 144us/sample - loss: 0.0509 - acc: 0.9825 - val_loss: 1.4825 - val_acc: 0.6992\n",
            "Epoch 28/30\n",
            "25000/25000 [==============================] - 4s 144us/sample - loss: 0.0409 - acc: 0.9862 - val_loss: 1.6563 - val_acc: 0.7028\n",
            "Epoch 29/30\n",
            "25000/25000 [==============================] - 4s 143us/sample - loss: 0.0469 - acc: 0.9835 - val_loss: 1.6305 - val_acc: 0.6848\n",
            "Epoch 30/30\n",
            "25000/25000 [==============================] - 4s 147us/sample - loss: 0.0416 - acc: 0.9851 - val_loss: 1.7174 - val_acc: 0.6876\n"
          ],
          "name": "stdout"
        }
      ]
    },
    {
      "cell_type": "code",
      "metadata": {
        "id": "s0WVVvVojEy5",
        "colab_type": "code",
        "outputId": "6436b65b-ae57-4bea-c5e2-7f3fa757f443",
        "colab": {
          "base_uri": "https://localhost:8080/",
          "height": 549
        }
      },
      "source": [
        "plot_graph(history, 'acc')\n",
        "plot_graph(history, 'loss')"
      ],
      "execution_count": 0,
      "outputs": [
        {
          "output_type": "display_data",
          "data": {
            "image/png": "[encoded data removed]",
            "text/plain": [
              "<Figure size 432x288 with 1 Axes>"
            ]
          },
          "metadata": {
            "tags": []
          }
        },
        {
          "output_type": "display_data",
          "data": {
            "image/png": "[encoded data removed]",
            "text/plain": [
              "<Figure size 432x288 with 1 Axes>"
            ]
          },
          "metadata": {
            "tags": []
          }
        }
      ]
    },
    {
      "cell_type": "markdown",
      "metadata": {
        "id": "j7GPrOMhmtZB",
        "colab_type": "text"
      },
      "source": [
        "## Results"
      ]
    },
    {
      "cell_type": "markdown",
      "metadata": {
        "id": "5MGKDyfzkNGP",
        "colab_type": "text"
      },
      "source": [
        "Things to try:\n",
        "- **160.000 training size**: model with dropout is better -> 0.75 accuracy and loss 0.52 with some overfitting. The scond accuracy is 0.72 (CNN)\n",
        "- **less training size (25.000)**: Less accuracy with regularization -> 0.7 and a with much more overfitting\n",
        "- **With larger training_size (500.000)**: model with dropout improves to -> 0.77 accuracy and loss 0.47. Very little overfitting with this configuration\n",
        "- without regularization\n",
        "- without GloVe embeddings\n",
        "- With vocab_size parameter\n",
        "- With trainable embeddings\n",
        "- Change dropout value\n",
        "\n",
        "| Configuration | Accuracy | Loss | Overfitting? |\n",
        "|---------------|----------|------|--------------|\n",
        "| 160K for training | 0.75     | 0.52 | yes      |\n",
        "| 25K for training  | 0.7      | NA   | yes      |\n",
        "| 500K for training | 0.77     | 0.47 | no       |\n",
        "| Without regularization | 0.75 | 0.50 | yes     |\n",
        "| Without GloVe Embeddings | 0.77 | 0.57 | yes   |\n",
        "| With fixed vocab_size (50K) | 0.77 | 0.47 | no |\n",
        "| With trainable embeddings | 0.77 | 0.73 | yes  |\n",
        "| With Dropout = 0.5 | 0.75 | 0.52        | no   |\n"
      ]
    },
    {
      "cell_type": "markdown",
      "metadata": {
        "id": "h2SOcTEfFaV9",
        "colab_type": "text"
      },
      "source": [
        "## Conclusions\n",
        "\n",
        "- You need a large corpus in order to avoid overfitting\n",
        "- You should use regularization techniques since with text the overfitting by default is high"
      ]
    },
    {
      "cell_type": "code",
      "metadata": {
        "id": "4qeE5MR5kgw2",
        "colab_type": "code",
        "colab": {}
      },
      "source": [
        ""
      ],
      "execution_count": 0,
      "outputs": []
    }
  ]
}