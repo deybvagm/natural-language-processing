{
  "nbformat": 4,
  "nbformat_minor": 0,
  "metadata": {
    "colab": {
      "name": "NLP_Generating_Text.ipynb",
      "version": "0.3.2",
      "provenance": [],
      "collapsed_sections": [],
      "include_colab_link": true
    },
    "kernelspec": {
      "name": "python3",
      "display_name": "Python 3"
    },
    "accelerator": "GPU"
  },
  "cells": [
    {
      "cell_type": "markdown",
      "metadata": {
        "id": "view-in-github",
        "colab_type": "text"
      },
      "source": [
        "<a href=\"https://colab.research.google.com/github/deybvagm/natural-language-processing/blob/master/NLP_Generating_Text.ipynb\" target=\"_parent\"><img src=\"https://colab.research.google.com/assets/colab-badge.svg\" alt=\"Open In Colab\"/></a>"
      ]
    },
    {
      "cell_type": "code",
      "metadata": {
        "id": "BOwsuGQQY9OL",
        "colab_type": "code",
        "colab": {}
      },
      "source": [
        "from tensorflow.keras.preprocessing.sequence import pad_sequences\n",
        "from tensorflow.keras.layers import Embedding, LSTM, Dense, Dropout, Bidirectional\n",
        "from tensorflow.keras.preprocessing.text import Tokenizer\n",
        "from tensorflow.keras.models import Sequential\n",
        "from tensorflow.keras.optimizers import Adam\n",
        "from tensorflow.keras import regularizers\n",
        "import tensorflow.keras.utils as ku \n",
        "import numpy as np "
      ],
      "execution_count": 0,
      "outputs": []
    },
    {
      "cell_type": "code",
      "metadata": {
        "colab_type": "code",
        "id": "PRnDnCW-Z7qv",
        "outputId": "0221e57f-11ed-4d26-f183-01243cadc4da",
        "colab": {
          "base_uri": "https://localhost:8080/",
          "height": 204
        }
      },
      "source": [
        "tokenizer = Tokenizer()\n",
        "!wget --no-check-certificate \\\n",
        "    https://storage.googleapis.com/laurencemoroney-blog.appspot.com/sonnets.txt \\\n",
        "    -O /tmp/sonnets.txt\n",
        "data = open('/tmp/sonnets.txt').read()\n",
        "\n",
        "corpus = data.lower().split(\"\\n\")\n",
        "\n",
        "\n",
        "tokenizer.fit_on_texts(corpus)\n",
        "total_words = len(tokenizer.word_index) + 1\n",
        "\n",
        "# create input sequences using list of tokens\n",
        "input_sequences = []\n",
        "for line in corpus:\n",
        "\ttoken_list = tokenizer.texts_to_sequences([line])[0]\n",
        "\tfor i in range(1, len(token_list)):\n",
        "\t\tn_gram_sequence = token_list[:i+1]\n",
        "\t\tinput_sequences.append(n_gram_sequence)\n",
        "\n",
        "\n",
        "# pad sequences \n",
        "max_sequence_len = max([len(x) for x in input_sequences])\n",
        "input_sequences = np.array(pad_sequences(input_sequences, maxlen=max_sequence_len, padding='pre'))\n",
        "\n",
        "# create predictors and label\n",
        "predictors, label = input_sequences[:,:-1],input_sequences[:,-1]\n",
        "\n",
        "label = ku.to_categorical(label, num_classes=total_words)"
      ],
      "execution_count": 0,
      "outputs": [
        {
          "output_type": "stream",
          "text": [
            "--2019-09-04 11:25:07--  https://storage.googleapis.com/laurencemoroney-blog.appspot.com/sonnets.txt\n",
            "Resolving storage.googleapis.com (storage.googleapis.com)... 64.233.167.128, 2a00:1450:400c:c00::80\n",
            "Connecting to storage.googleapis.com (storage.googleapis.com)|64.233.167.128|:443... connected.\n",
            "HTTP request sent, awaiting response... 200 OK\n",
            "Length: 93578 (91K) [text/plain]\n",
            "Saving to: ‘/tmp/sonnets.txt’\n",
            "\n",
            "\r/tmp/sonnets.txt      0%[                    ]       0  --.-KB/s               \r/tmp/sonnets.txt    100%[===================>]  91.38K  --.-KB/s    in 0.001s  \n",
            "\n",
            "2019-09-04 11:25:07 (125 MB/s) - ‘/tmp/sonnets.txt’ saved [93578/93578]\n",
            "\n"
          ],
          "name": "stdout"
        }
      ]
    },
    {
      "cell_type": "code",
      "metadata": {
        "id": "w9vH8Y59ajYL",
        "colab_type": "code",
        "outputId": "418b1ac2-58ec-474c-eeda-b35d4e16ec1e",
        "colab": {
          "base_uri": "https://localhost:8080/",
          "height": 666
        }
      },
      "source": [
        "model = Sequential()\n",
        "model.add(Embedding(total_words, 100, input_length=max_sequence_len-1))\n",
        "model.add(Bidirectional(LSTM(150, return_sequences = True)))\n",
        "model.add(Dropout(0.2))\n",
        "model.add(LSTM(100))\n",
        "model.add(Dense(total_words/2, activation='relu', kernel_regularizer=regularizers.l2(0.01)))\n",
        "model.add(Dense(total_words, activation='softmax'))\n",
        "model.compile(loss='categorical_crossentropy', optimizer='adam', metrics=['accuracy'])\n",
        "print(model.summary())\n"
      ],
      "execution_count": 0,
      "outputs": [
        {
          "output_type": "stream",
          "text": [
            "WARNING: Logging before flag parsing goes to stderr.\n",
            "W0904 11:25:23.661792 140572731139968 deprecation.py:506] From /usr/local/lib/python3.6/dist-packages/tensorflow/python/keras/initializers.py:119: calling RandomUniform.__init__ (from tensorflow.python.ops.init_ops) with dtype is deprecated and will be removed in a future version.\n",
            "Instructions for updating:\n",
            "Call initializer instance with the dtype argument instead of passing it to the constructor\n",
            "W0904 11:25:23.702391 140572731139968 deprecation.py:506] From /usr/local/lib/python3.6/dist-packages/tensorflow/python/ops/init_ops.py:1251: calling VarianceScaling.__init__ (from tensorflow.python.ops.init_ops) with dtype is deprecated and will be removed in a future version.\n",
            "Instructions for updating:\n",
            "Call initializer instance with the dtype argument instead of passing it to the constructor\n",
            "W0904 11:25:23.715991 140572731139968 deprecation.py:506] From /usr/local/lib/python3.6/dist-packages/tensorflow/python/ops/init_ops.py:97: calling GlorotUniform.__init__ (from tensorflow.python.ops.init_ops) with dtype is deprecated and will be removed in a future version.\n",
            "Instructions for updating:\n",
            "Call initializer instance with the dtype argument instead of passing it to the constructor\n",
            "W0904 11:25:23.717761 140572731139968 deprecation.py:506] From /usr/local/lib/python3.6/dist-packages/tensorflow/python/ops/init_ops.py:97: calling Orthogonal.__init__ (from tensorflow.python.ops.init_ops) with dtype is deprecated and will be removed in a future version.\n",
            "Instructions for updating:\n",
            "Call initializer instance with the dtype argument instead of passing it to the constructor\n",
            "W0904 11:25:23.719281 140572731139968 deprecation.py:506] From /usr/local/lib/python3.6/dist-packages/tensorflow/python/ops/init_ops.py:97: calling Zeros.__init__ (from tensorflow.python.ops.init_ops) with dtype is deprecated and will be removed in a future version.\n",
            "Instructions for updating:\n",
            "Call initializer instance with the dtype argument instead of passing it to the constructor\n"
          ],
          "name": "stderr"
        },
        {
          "output_type": "stream",
          "text": [
            "Model: \"sequential\"\n",
            "_________________________________________________________________\n",
            "Layer (type)                 Output Shape              Param #   \n",
            "=================================================================\n",
            "embedding (Embedding)        (None, 10, 100)           321100    \n",
            "_________________________________________________________________\n",
            "bidirectional (Bidirectional (None, 10, 300)           301200    \n",
            "_________________________________________________________________\n",
            "dropout (Dropout)            (None, 10, 300)           0         \n",
            "_________________________________________________________________\n",
            "lstm_1 (LSTM)                (None, 100)               160400    \n",
            "_________________________________________________________________\n",
            "dense (Dense)                (None, 1605)              162105    \n",
            "_________________________________________________________________\n",
            "dense_1 (Dense)              (None, 3211)              5156866   \n",
            "=================================================================\n",
            "Total params: 6,101,671\n",
            "Trainable params: 6,101,671\n",
            "Non-trainable params: 0\n",
            "_________________________________________________________________\n",
            "None\n"
          ],
          "name": "stdout"
        }
      ]
    },
    {
      "cell_type": "code",
      "metadata": {
        "id": "AIg2f1HBxqof",
        "colab_type": "code",
        "outputId": "ea1d6d3e-6866-43b6-e7f9-a638a5fa68f7",
        "colab": {
          "base_uri": "https://localhost:8080/",
          "height": 1000
        }
      },
      "source": [
        " history = model.fit(predictors, label, epochs=100, verbose=1)"
      ],
      "execution_count": 0,
      "outputs": [
        {
          "output_type": "stream",
          "text": [
            "W0904 11:25:53.791169 140572731139968 deprecation.py:323] From /usr/local/lib/python3.6/dist-packages/tensorflow/python/ops/math_grad.py:1250: add_dispatch_support.<locals>.wrapper (from tensorflow.python.ops.array_ops) is deprecated and will be removed in a future version.\n",
            "Instructions for updating:\n",
            "Use tf.where in 2.0, which has the same broadcast rule as np.where\n"
          ],
          "name": "stderr"
        },
        {
          "output_type": "stream",
          "text": [
            "Epoch 1/100\n",
            "15462/15462 [==============================] - 91s 6ms/sample - loss: 6.9055 - acc: 0.0217\n",
            "Epoch 2/100\n",
            "15462/15462 [==============================] - 88s 6ms/sample - loss: 6.5041 - acc: 0.0214\n",
            "Epoch 3/100\n",
            "15462/15462 [==============================] - 87s 6ms/sample - loss: 6.3968 - acc: 0.0246\n",
            "Epoch 4/100\n",
            "15462/15462 [==============================] - 88s 6ms/sample - loss: 6.2735 - acc: 0.0285\n",
            "Epoch 5/100\n",
            "15462/15462 [==============================] - 82s 5ms/sample - loss: 6.1817 - acc: 0.0344\n",
            "Epoch 6/100\n",
            "15462/15462 [==============================] - 87s 6ms/sample - loss: 6.0974 - acc: 0.0384\n",
            "Epoch 7/100\n",
            "15462/15462 [==============================] - 87s 6ms/sample - loss: 6.0109 - acc: 0.0396\n",
            "Epoch 8/100\n",
            "15462/15462 [==============================] - 88s 6ms/sample - loss: 5.9243 - acc: 0.0447\n",
            "Epoch 9/100\n",
            "15462/15462 [==============================] - 89s 6ms/sample - loss: 5.8304 - acc: 0.0493\n",
            "Epoch 10/100\n",
            "15462/15462 [==============================] - 88s 6ms/sample - loss: 5.7127 - acc: 0.0558\n",
            "Epoch 11/100\n",
            "15462/15462 [==============================] - 88s 6ms/sample - loss: 5.6052 - acc: 0.0626\n",
            "Epoch 12/100\n",
            "15462/15462 [==============================] - 89s 6ms/sample - loss: 5.4974 - acc: 0.0714\n",
            "Epoch 13/100\n",
            "15462/15462 [==============================] - 89s 6ms/sample - loss: 5.3888 - acc: 0.0770\n",
            "Epoch 14/100\n",
            "15462/15462 [==============================] - 88s 6ms/sample - loss: 5.2839 - acc: 0.0861\n",
            "Epoch 15/100\n",
            "15462/15462 [==============================] - 82s 5ms/sample - loss: 5.1829 - acc: 0.0905\n",
            "Epoch 16/100\n",
            "15462/15462 [==============================] - 89s 6ms/sample - loss: 5.0839 - acc: 0.0997\n",
            "Epoch 17/100\n",
            "15462/15462 [==============================] - 89s 6ms/sample - loss: 4.9795 - acc: 0.1057\n",
            "Epoch 18/100\n",
            "15462/15462 [==============================] - 89s 6ms/sample - loss: 4.8771 - acc: 0.1126\n",
            "Epoch 19/100\n",
            "15462/15462 [==============================] - 89s 6ms/sample - loss: 4.7751 - acc: 0.1247\n",
            "Epoch 20/100\n",
            "15462/15462 [==============================] - 88s 6ms/sample - loss: 4.6747 - acc: 0.1339\n",
            "Epoch 21/100\n",
            "15462/15462 [==============================] - 86s 6ms/sample - loss: 4.5748 - acc: 0.1413\n",
            "Epoch 22/100\n",
            "15462/15462 [==============================] - 87s 6ms/sample - loss: 4.4656 - acc: 0.1520\n",
            "Epoch 23/100\n",
            "15462/15462 [==============================] - 87s 6ms/sample - loss: 4.3674 - acc: 0.1631\n",
            "Epoch 24/100\n",
            "15462/15462 [==============================] - 86s 6ms/sample - loss: 4.2627 - acc: 0.1777\n",
            "Epoch 25/100\n",
            "15462/15462 [==============================] - 85s 5ms/sample - loss: 4.1575 - acc: 0.1923\n",
            "Epoch 26/100\n",
            "15462/15462 [==============================] - 86s 6ms/sample - loss: 4.0637 - acc: 0.2006\n",
            "Epoch 27/100\n",
            "15462/15462 [==============================] - 86s 6ms/sample - loss: 3.9552 - acc: 0.2174\n",
            "Epoch 28/100\n",
            "15462/15462 [==============================] - 87s 6ms/sample - loss: 3.8591 - acc: 0.2310\n",
            "Epoch 29/100\n",
            "15462/15462 [==============================] - 88s 6ms/sample - loss: 3.7613 - acc: 0.2500\n",
            "Epoch 30/100\n",
            "15462/15462 [==============================] - 87s 6ms/sample - loss: 3.6611 - acc: 0.2687\n",
            "Epoch 31/100\n",
            "15462/15462 [==============================] - 88s 6ms/sample - loss: 3.5696 - acc: 0.2865\n",
            "Epoch 32/100\n",
            "15462/15462 [==============================] - 89s 6ms/sample - loss: 3.4829 - acc: 0.3073\n",
            "Epoch 33/100\n",
            "15462/15462 [==============================] - 88s 6ms/sample - loss: 3.4016 - acc: 0.3218\n",
            "Epoch 34/100\n",
            "15462/15462 [==============================] - 83s 5ms/sample - loss: 3.3033 - acc: 0.3469\n",
            "Epoch 35/100\n",
            "15462/15462 [==============================] - 88s 6ms/sample - loss: 3.2218 - acc: 0.3600\n",
            "Epoch 36/100\n",
            "15462/15462 [==============================] - 88s 6ms/sample - loss: 3.1452 - acc: 0.3796\n",
            "Epoch 37/100\n",
            "15462/15462 [==============================] - 89s 6ms/sample - loss: 3.0588 - acc: 0.4022\n",
            "Epoch 38/100\n",
            "15462/15462 [==============================] - 89s 6ms/sample - loss: 2.9790 - acc: 0.4194\n",
            "Epoch 39/100\n",
            "15462/15462 [==============================] - 88s 6ms/sample - loss: 2.9024 - acc: 0.4355\n",
            "Epoch 40/100\n",
            "15462/15462 [==============================] - 88s 6ms/sample - loss: 2.8383 - acc: 0.4484\n",
            "Epoch 41/100\n",
            "15462/15462 [==============================] - 87s 6ms/sample - loss: 2.7807 - acc: 0.4615\n",
            "Epoch 42/100\n",
            "15462/15462 [==============================] - 88s 6ms/sample - loss: 2.7051 - acc: 0.4778\n",
            "Epoch 43/100\n",
            "15462/15462 [==============================] - 88s 6ms/sample - loss: 2.6413 - acc: 0.4948\n",
            "Epoch 44/100\n",
            "15462/15462 [==============================] - 82s 5ms/sample - loss: 2.5839 - acc: 0.5102\n",
            "Epoch 45/100\n",
            "15462/15462 [==============================] - 89s 6ms/sample - loss: 2.5188 - acc: 0.5225\n",
            "Epoch 46/100\n",
            "15462/15462 [==============================] - 88s 6ms/sample - loss: 2.4576 - acc: 0.5365\n",
            "Epoch 47/100\n",
            "15462/15462 [==============================] - 87s 6ms/sample - loss: 2.4170 - acc: 0.5457\n",
            "Epoch 48/100\n",
            "15462/15462 [==============================] - 88s 6ms/sample - loss: 2.3665 - acc: 0.5627\n",
            "Epoch 49/100\n",
            "15462/15462 [==============================] - 89s 6ms/sample - loss: 2.3025 - acc: 0.5757\n",
            "Epoch 50/100\n",
            "15462/15462 [==============================] - 89s 6ms/sample - loss: 2.2524 - acc: 0.5845\n",
            "Epoch 51/100\n",
            "15462/15462 [==============================] - 87s 6ms/sample - loss: 2.2081 - acc: 0.5947\n",
            "Epoch 52/100\n",
            "15462/15462 [==============================] - 87s 6ms/sample - loss: 2.1524 - acc: 0.6077\n",
            "Epoch 53/100\n",
            "15462/15462 [==============================] - 89s 6ms/sample - loss: 2.1440 - acc: 0.6076\n",
            "Epoch 54/100\n",
            "15462/15462 [==============================] - 82s 5ms/sample - loss: 2.0799 - acc: 0.6244\n",
            "Epoch 55/100\n",
            "15462/15462 [==============================] - 86s 6ms/sample - loss: 2.0312 - acc: 0.6358\n",
            "Epoch 56/100\n",
            "15462/15462 [==============================] - 87s 6ms/sample - loss: 1.9950 - acc: 0.6419\n",
            "Epoch 57/100\n",
            "15462/15462 [==============================] - 86s 6ms/sample - loss: 1.9574 - acc: 0.6501\n",
            "Epoch 58/100\n",
            "15462/15462 [==============================] - 87s 6ms/sample - loss: 1.9319 - acc: 0.6578\n",
            "Epoch 59/100\n",
            "15462/15462 [==============================] - 87s 6ms/sample - loss: 1.8978 - acc: 0.6588\n",
            "Epoch 60/100\n",
            "15462/15462 [==============================] - 88s 6ms/sample - loss: 1.8577 - acc: 0.6647\n",
            "Epoch 61/100\n",
            "15462/15462 [==============================] - 89s 6ms/sample - loss: 1.8246 - acc: 0.6789\n",
            "Epoch 62/100\n",
            "15462/15462 [==============================] - 90s 6ms/sample - loss: 1.8103 - acc: 0.6811\n",
            "Epoch 63/100\n",
            "15462/15462 [==============================] - 88s 6ms/sample - loss: 1.7677 - acc: 0.6894\n",
            "Epoch 64/100\n",
            "15462/15462 [==============================] - 82s 5ms/sample - loss: 1.7366 - acc: 0.6938\n",
            "Epoch 65/100\n",
            "15462/15462 [==============================] - 89s 6ms/sample - loss: 1.6918 - acc: 0.7084\n",
            "Epoch 66/100\n",
            "15462/15462 [==============================] - 89s 6ms/sample - loss: 1.6717 - acc: 0.7121\n",
            "Epoch 67/100\n",
            "15462/15462 [==============================] - 88s 6ms/sample - loss: 1.6655 - acc: 0.7095\n",
            "Epoch 68/100\n",
            "15462/15462 [==============================] - 88s 6ms/sample - loss: 1.6383 - acc: 0.7160\n",
            "Epoch 69/100\n",
            "15462/15462 [==============================] - 89s 6ms/sample - loss: 1.5987 - acc: 0.7209\n",
            "Epoch 70/100\n",
            "15462/15462 [==============================] - 88s 6ms/sample - loss: 1.5826 - acc: 0.7262\n",
            "Epoch 71/100\n",
            "15462/15462 [==============================] - 89s 6ms/sample - loss: 1.5618 - acc: 0.7290\n",
            "Epoch 72/100\n",
            "15462/15462 [==============================] - 89s 6ms/sample - loss: 1.5367 - acc: 0.7363\n",
            "Epoch 73/100\n",
            "15462/15462 [==============================] - 84s 5ms/sample - loss: 1.5332 - acc: 0.7339\n",
            "Epoch 74/100\n",
            "15462/15462 [==============================] - 87s 6ms/sample - loss: 1.4912 - acc: 0.7413\n",
            "Epoch 75/100\n",
            "15462/15462 [==============================] - 88s 6ms/sample - loss: 1.4743 - acc: 0.7451\n",
            "Epoch 76/100\n",
            "15462/15462 [==============================] - 88s 6ms/sample - loss: 1.4501 - acc: 0.7512\n",
            "Epoch 77/100\n",
            "15462/15462 [==============================] - 88s 6ms/sample - loss: 1.4478 - acc: 0.7504\n",
            "Epoch 78/100\n",
            "15462/15462 [==============================] - 88s 6ms/sample - loss: 1.4168 - acc: 0.7545\n",
            "Epoch 79/100\n",
            "15462/15462 [==============================] - 88s 6ms/sample - loss: 1.3837 - acc: 0.7679\n",
            "Epoch 80/100\n",
            "15462/15462 [==============================] - 86s 6ms/sample - loss: 1.3859 - acc: 0.7612\n",
            "Epoch 81/100\n",
            "15462/15462 [==============================] - 88s 6ms/sample - loss: 1.3731 - acc: 0.7652\n",
            "Epoch 82/100\n",
            "15462/15462 [==============================] - 88s 6ms/sample - loss: 1.3551 - acc: 0.7674\n",
            "Epoch 83/100\n",
            "15462/15462 [==============================] - 82s 5ms/sample - loss: 1.3292 - acc: 0.7720\n",
            "Epoch 84/100\n",
            "15462/15462 [==============================] - 89s 6ms/sample - loss: 1.3656 - acc: 0.7651\n",
            "Epoch 85/100\n",
            "15462/15462 [==============================] - 89s 6ms/sample - loss: 1.3080 - acc: 0.7764\n",
            "Epoch 86/100\n",
            "15462/15462 [==============================] - 88s 6ms/sample - loss: 1.2824 - acc: 0.7820\n",
            "Epoch 87/100\n",
            "15462/15462 [==============================] - 88s 6ms/sample - loss: 1.2698 - acc: 0.7831\n",
            "Epoch 88/100\n",
            "15462/15462 [==============================] - 86s 6ms/sample - loss: 1.2614 - acc: 0.7847\n",
            "Epoch 89/100\n",
            "15462/15462 [==============================] - 88s 6ms/sample - loss: 1.2562 - acc: 0.7839\n",
            "Epoch 90/100\n",
            "15462/15462 [==============================] - 89s 6ms/sample - loss: 1.2370 - acc: 0.7858\n",
            "Epoch 91/100\n",
            "15462/15462 [==============================] - 88s 6ms/sample - loss: 1.2399 - acc: 0.7846\n",
            "Epoch 92/100\n",
            "15462/15462 [==============================] - 88s 6ms/sample - loss: 1.2186 - acc: 0.7914\n",
            "Epoch 93/100\n",
            "15462/15462 [==============================] - 84s 5ms/sample - loss: 1.2162 - acc: 0.7895\n",
            "Epoch 94/100\n",
            "15462/15462 [==============================] - 89s 6ms/sample - loss: 1.2073 - acc: 0.7906\n",
            "Epoch 95/100\n",
            "15462/15462 [==============================] - 87s 6ms/sample - loss: 1.1895 - acc: 0.7935\n",
            "Epoch 96/100\n",
            "15462/15462 [==============================] - 87s 6ms/sample - loss: 1.1781 - acc: 0.7963\n",
            "Epoch 97/100\n",
            "15462/15462 [==============================] - 87s 6ms/sample - loss: 1.1634 - acc: 0.8010\n",
            "Epoch 98/100\n",
            "15462/15462 [==============================] - 88s 6ms/sample - loss: 1.1565 - acc: 0.7980\n",
            "Epoch 99/100\n",
            "15462/15462 [==============================] - 89s 6ms/sample - loss: 1.1345 - acc: 0.8035\n",
            "Epoch 100/100\n",
            "15462/15462 [==============================] - 88s 6ms/sample - loss: 1.1364 - acc: 0.8024\n"
          ],
          "name": "stdout"
        }
      ]
    },
    {
      "cell_type": "code",
      "metadata": {
        "id": "1fXTEO3GJ282",
        "colab_type": "code",
        "outputId": "1ec06018-a90b-4272-f595-6943e919b945",
        "colab": {
          "base_uri": "https://localhost:8080/",
          "height": 545
        }
      },
      "source": [
        "import matplotlib.pyplot as plt\n",
        "acc = history.history['acc']\n",
        "loss = history.history['loss']\n",
        "\n",
        "epochs = range(len(acc))\n",
        "\n",
        "plt.plot(epochs, acc, 'b', label='Training accuracy')\n",
        "plt.title('Training accuracy')\n",
        "\n",
        "plt.figure()\n",
        "\n",
        "plt.plot(epochs, loss, 'b', label='Training Loss')\n",
        "plt.title('Training loss')\n",
        "plt.legend()\n",
        "\n",
        "plt.show()"
      ],
      "execution_count": 0,
      "outputs": [
        {
          "output_type": "display_data",
          "data": {
            "image/png": "[encoded data removed]",
            "text/plain": [
              "<Figure size 432x288 with 1 Axes>"
            ]
          },
          "metadata": {
            "tags": []
          }
        },
        {
          "output_type": "display_data",
          "data": {
            "image/png": "[encoded data removed]",
            "text/plain": [
              "<Figure size 432x288 with 1 Axes>"
            ]
          },
          "metadata": {
            "tags": []
          }
        }
      ]
    },
    {
      "cell_type": "code",
      "metadata": {
        "id": "6Vc6PHgxa6Hm",
        "colab_type": "code",
        "outputId": "bd4df707-1873-465a-84a0-13b07b39258f",
        "colab": {
          "base_uri": "https://localhost:8080/",
          "height": 54
        }
      },
      "source": [
        "seed_text = \"Help me Obi Wan Kenobi, you're my only hope\"\n",
        "next_words = 100\n",
        "  \n",
        "for _ in range(next_words):\n",
        "\ttoken_list = tokenizer.texts_to_sequences([seed_text])[0]\n",
        "\ttoken_list = pad_sequences([token_list], maxlen=max_sequence_len-1, padding='pre')\n",
        "\tpredicted = model.predict_classes(token_list, verbose=0)\n",
        "\toutput_word = \"\"\n",
        "\tfor word, index in tokenizer.word_index.items():\n",
        "\t\tif index == predicted:\n",
        "\t\t\toutput_word = word\n",
        "\t\t\tbreak\n",
        "\tseed_text += \" \" + output_word\n",
        "print(seed_text)"
      ],
      "execution_count": 0,
      "outputs": [
        {
          "output_type": "stream",
          "text": [
            "Help me Obi Wan Kenobi, you're my only hope of thee hate young me bearing eyes thee ' swearing me free free true bad ' not new dearer free ' not ' not so due of such deeds with thine eyes appetite i know mine eye not ever not mine eye untrue bright right foes gone but so 'will so eye hath thee prove you forth far respect respect words but hence seen can convert convert seen down new quite mad quite madding fiend beaten face had wind dyed torn ears new about respect respect seen burn'd joy self store respect convert convert dwells action o'er pain ' express'd\n"
          ],
          "name": "stdout"
        }
      ]
    },
    {
      "cell_type": "code",
      "metadata": {
        "id": "lqx_ojovkgQt",
        "colab_type": "code",
        "colab": {}
      },
      "source": [
        ""
      ],
      "execution_count": 0,
      "outputs": []
    }
  ]
}