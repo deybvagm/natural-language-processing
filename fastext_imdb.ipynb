{
  "nbformat": 4,
  "nbformat_minor": 0,
  "metadata": {
    "colab": {
      "name": "fastext-imdb.ipynb",
      "version": "0.3.2",
      "provenance": [],
      "collapsed_sections": [],
      "include_colab_link": true
    },
    "kernelspec": {
      "name": "python3",
      "display_name": "Python 3"
    },
    "accelerator": "GPU"
  },
  "cells": [
    {
      "cell_type": "markdown",
      "metadata": {
        "id": "view-in-github",
        "colab_type": "text"
      },
      "source": [
        "<a href=\"https://colab.research.google.com/github/deybvagm/natural-language-processing/blob/master/fastext_imdb.ipynb\" target=\"_parent\"><img src=\"https://colab.research.google.com/assets/colab-badge.svg\" alt=\"Open In Colab\"/></a>"
      ]
    },
    {
      "cell_type": "markdown",
      "metadata": {
        "id": "xxchhraOb8pM",
        "colab_type": "text"
      },
      "source": [
        "# Procesamiento de lenguaje natural con el conjunto de datos Imdb y la librería fasttext\n",
        "\n",
        "[Imdb](https://www.imdb.com/) es una base de datos en línea que contiene información de peliculas, programas de televisión, entre otro contenido audiovisual relacionado. Para trabajar temas de procesamiento de lenguaje natural, se dispone de una **base de datos de 50.000 reviews** de peliculas proporcionados por usuarios de la plataforma.\n",
        "\n",
        "\n",
        "[Fasttext](https://fasttext.cc/) es una librería de procesamiento de lenguaje natural creada por el laboratorio de inteligencia artificial de facebook. En este caso específico, será utilizada para clasificar los reviews de usuarios como positivos o negativos. Un comentario **negativo** en este contexto, es el que tiene de **0-4 estrellas** en su calificación. Un comentario es **positivo** si en la review el usuario dio de **7-10 estrellas**."
      ]
    },
    {
      "cell_type": "markdown",
      "metadata": {
        "id": "D93f-qwNEunH",
        "colab_type": "text"
      },
      "source": [
        "### Instalación de librería para procesamiento de texto"
      ]
    },
    {
      "cell_type": "code",
      "metadata": {
        "id": "UBj022WmG-EI",
        "colab_type": "code",
        "outputId": "01d982a9-78dd-441f-f443-2baf49dc0714",
        "colab": {
          "base_uri": "https://localhost:8080/",
          "height": 85
        }
      },
      "source": [
        "! pip install fasttext"
      ],
      "execution_count": 0,
      "outputs": [
        {
          "output_type": "stream",
          "text": [
            "Requirement already satisfied: fasttext in /usr/local/lib/python3.6/dist-packages (0.9.1)\n",
            "Requirement already satisfied: pybind11>=2.2 in /usr/local/lib/python3.6/dist-packages (from fasttext) (2.3.0)\n",
            "Requirement already satisfied: numpy in /usr/local/lib/python3.6/dist-packages (from fasttext) (1.16.4)\n",
            "Requirement already satisfied: setuptools>=0.7.0 in /usr/local/lib/python3.6/dist-packages (from fasttext) (41.0.1)\n"
          ],
          "name": "stdout"
        }
      ]
    },
    {
      "cell_type": "markdown",
      "metadata": {
        "id": "Dc0tRV3QFROd",
        "colab_type": "text"
      },
      "source": [
        "### Integración con Google Drive\n",
        "Es de utilidad ya que el modelo esta almacenado en Drive y por lo tanto para hacer uso de él podemos hacer esta integración con el fin de acceder a los datos que allí se tengan"
      ]
    },
    {
      "cell_type": "code",
      "metadata": {
        "id": "YeXCEdzLIq6z",
        "colab_type": "code",
        "outputId": "09c01944-38e2-462c-8718-0336f1c522d3",
        "colab": {
          "base_uri": "https://localhost:8080/",
          "height": 122
        }
      },
      "source": [
        "from google.colab import drive\n",
        "drive.mount('/content/drive')"
      ],
      "execution_count": 0,
      "outputs": [
        {
          "output_type": "stream",
          "text": [
            "Go to this URL in a browser: https://accounts.google.com/o/oauth2/auth?client_id=947318989803-6bn6qk8qdgf4n4g3pfee6491hc0brc4i.apps.googleusercontent.com&redirect_uri=urn%3Aietf%3Awg%3Aoauth%3A2.0%3Aoob&scope=email%20https%3A%2F%2Fwww.googleapis.com%2Fauth%2Fdocs.test%20https%3A%2F%2Fwww.googleapis.com%2Fauth%2Fdrive%20https%3A%2F%2Fwww.googleapis.com%2Fauth%2Fdrive.photos.readonly%20https%3A%2F%2Fwww.googleapis.com%2Fauth%2Fpeopleapi.readonly&response_type=code\n",
            "\n",
            "Enter your authorization code:\n",
            "··········\n",
            "Mounted at /content/drive\n"
          ],
          "name": "stdout"
        }
      ]
    },
    {
      "cell_type": "markdown",
      "metadata": {
        "id": "BbUJe5Y7GpVF",
        "colab_type": "text"
      },
      "source": [
        "Ahora nos vamos a la carpeta de Drive donde está almacenado el modelo"
      ]
    },
    {
      "cell_type": "code",
      "metadata": {
        "id": "Z8z0n0tnJH0Y",
        "colab_type": "code",
        "outputId": "09954b2f-f389-4691-a5e6-27f2838b891b",
        "colab": {
          "base_uri": "https://localhost:8080/",
          "height": 34
        }
      },
      "source": [
        "%cd drive/My\\ Drive/nlp"
      ],
      "execution_count": 0,
      "outputs": [
        {
          "output_type": "stream",
          "text": [
            "/content/drive/My Drive/nlp\n"
          ],
          "name": "stdout"
        }
      ]
    },
    {
      "cell_type": "code",
      "metadata": {
        "id": "lTaWSbbA94JO",
        "colab_type": "code",
        "outputId": "74d33097-0a68-42e4-d645-55a5f649086f",
        "colab": {
          "base_uri": "https://localhost:8080/",
          "height": 34
        }
      },
      "source": [
        "! ls aclImdb"
      ],
      "execution_count": 0,
      "outputs": [
        {
          "output_type": "stream",
          "text": [
            "imdbEr.txt  imdb.vocab\tREADME\ttest  train\n"
          ],
          "name": "stdout"
        }
      ]
    },
    {
      "cell_type": "code",
      "metadata": {
        "id": "j9iA0qJ1V01a",
        "colab_type": "code",
        "outputId": "aee9ad68-e370-40ca-cd1b-042f7d3dc600",
        "colab": {
          "base_uri": "https://localhost:8080/",
          "height": 51
        }
      },
      "source": [
        "! ls aclImdb/train/neg -1 | wc -l"
      ],
      "execution_count": 0,
      "outputs": [
        {
          "output_type": "stream",
          "text": [
            "ls: cannot open directory 'aclImdb/train/neg': Input/output error\n",
            "0\n"
          ],
          "name": "stdout"
        }
      ]
    },
    {
      "cell_type": "markdown",
      "metadata": {
        "id": "Vr__zLleG8Xe",
        "colab_type": "text"
      },
      "source": [
        "### Import de librerías a usar y definición de funciones auxiliares para pre-procesamiento de texto\n",
        "\n",
        "La función auxiliar es encargada de convertir el texto a minúsculas y además de dejar el texto en un formato que pueda ser leído por la librería `fasttext`.  Por ejemplo un texto como **`El restaurante esmuy bueno!`** es  convertido en **`__label__5 el restaurante es muy bueno!`**"
      ]
    },
    {
      "cell_type": "code",
      "metadata": {
        "id": "I8rCiw7d9phG",
        "colab_type": "code",
        "colab": {}
      },
      "source": [
        "import fasttext\n",
        "import re\n",
        "\n",
        "def strip_formatting(string):\n",
        "    string = string.lower()\n",
        "    string = re.sub(r\"([.!?,'/()])\", r\" \\1 \", string)\n",
        "    return string"
      ],
      "execution_count": 0,
      "outputs": []
    },
    {
      "cell_type": "markdown",
      "metadata": {
        "id": "EkwAX25zXYIR",
        "colab_type": "text"
      },
      "source": [
        "### Entrenamiento del modelo de Machine Learning\n",
        "\n",
        "Para entrenar el modelo de machine learning se requiere la información de las reviews de clientes junto con su calificación (número de estrellas). Además de esto es necesario dividir los datos en dos conjuntos, uno de entrenamiento con el cual se realiza el aprendizaje, y el otro de pruebas usado para hacer la evaluación del modelo obtenido. Una vez realizado el entrenamiento, se guarda el modelo en una ruta indicada (en este caso una ruta en Google Drive)"
      ]
    },
    {
      "cell_type": "code",
      "metadata": {
        "id": "63MBDy88hdRp",
        "colab_type": "code",
        "outputId": "64fb8374-d947-43ff-ffb9-d03547a5b352",
        "colab": {
          "base_uri": "https://localhost:8080/",
          "height": 34
        }
      },
      "source": [
        "! ls aclImdb/"
      ],
      "execution_count": 0,
      "outputs": [
        {
          "output_type": "stream",
          "text": [
            "imdbEr.txt  imdb.vocab\tREADME\ttest  train\n"
          ],
          "name": "stdout"
        }
      ]
    },
    {
      "cell_type": "code",
      "metadata": {
        "id": "hi_7bdYisrn4",
        "colab_type": "code",
        "outputId": "ba008494-dd99-4e03-d23a-a38b8c182fb1",
        "colab": {
          "base_uri": "https://localhost:8080/",
          "height": 105
        }
      },
      "source": [
        "training_path = Path(\"aclImdb\") / \"train\"\n",
        "class1 = \"neg\"\n",
        "class2 = \"pos\"\n",
        "\n",
        "files = training_path.glob(\"/*.txt\")\n",
        "print(training_path)\n",
        "print(dir(training_path))\n",
        "baba_path = training_path.joinpath(\"baba\")\n",
        "print(training_path)\n",
        "print(baba_path)\n",
        "baba_path.glob(\"*.txt\")\n",
        "\n",
        "# my_file = next(files)\n",
        "# print(my_file)\n",
        "# print(type(my_file))"
      ],
      "execution_count": 0,
      "outputs": [
        {
          "output_type": "stream",
          "text": [
            "aclImdb/train\n",
            "['__bytes__', '__class__', '__delattr__', '__dir__', '__doc__', '__enter__', '__eq__', '__exit__', '__format__', '__fspath__', '__ge__', '__getattribute__', '__gt__', '__hash__', '__init__', '__init_subclass__', '__le__', '__lt__', '__module__', '__ne__', '__new__', '__reduce__', '__reduce_ex__', '__repr__', '__rtruediv__', '__setattr__', '__sizeof__', '__slots__', '__str__', '__subclasshook__', '__truediv__', '_accessor', '_cached_cparts', '_closed', '_cparts', '_drv', '_flavour', '_format_parsed_parts', '_from_parsed_parts', '_from_parts', '_hash', '_init', '_make_child', '_make_child_relpath', '_opener', '_parse_args', '_parts', '_pparts', '_raise_closed', '_raw_open', '_root', '_str', 'absolute', 'anchor', 'as_posix', 'as_uri', 'chmod', 'cwd', 'drive', 'exists', 'expanduser', 'glob', 'group', 'home', 'is_absolute', 'is_block_device', 'is_char_device', 'is_dir', 'is_fifo', 'is_file', 'is_reserved', 'is_socket', 'is_symlink', 'iterdir', 'joinpath', 'lchmod', 'lstat', 'match', 'mkdir', 'name', 'open', 'owner', 'parent', 'parents', 'parts', 'read_bytes', 'read_text', 'relative_to', 'rename', 'replace', 'resolve', 'rglob', 'rmdir', 'root', 'samefile', 'stat', 'stem', 'suffix', 'suffixes', 'symlink_to', 'touch', 'unlink', 'with_name', 'with_suffix', 'write_bytes', 'write_text']\n",
            "aclImdb/train\n",
            "aclImdb/train/baba\n"
          ],
          "name": "stdout"
        }
      ]
    },
    {
      "cell_type": "code",
      "metadata": {
        "id": "T1HqPtt_xpRE",
        "colab_type": "code",
        "outputId": "96eabe98-c40a-4cd0-d630-12ad0563f5de",
        "colab": {
          "base_uri": "https://localhost:8080/",
          "height": 102
        }
      },
      "source": [
        "! ls"
      ],
      "execution_count": 0,
      "outputs": [
        {
          "output_type": "stream",
          "text": [
            " aclImdb\t\t      imdb_lstm.py   xlnet_cased_L-12_H-768_A-12\n",
            " aclImdb_pred\t\t      lstm_model    'xlnet commands.txt'\n",
            " exp\t\t\t      predictions    yelp\n",
            " fasttest_imdb_testing.txt    proc_data      yelp_model\n",
            " fasttest_imdb_training.txt   xlnet\n"
          ],
          "name": "stdout"
        }
      ]
    },
    {
      "cell_type": "code",
      "metadata": {
        "id": "Uif9n5qqanPj",
        "colab_type": "code",
        "colab": {}
      },
      "source": [
        "train_file = Path(\"fasttext_imdb_training.txt\")\n",
        "test_file = Path(\"fasttext_imdb_testing.txt\")\n",
        "\n",
        "training_path = Path(\"aclImdb\") / \"train\"\n",
        "test_path = Path(\"aclImdb\") / \"test\"\n"
      ],
      "execution_count": 0,
      "outputs": []
    },
    {
      "cell_type": "code",
      "metadata": {
        "id": "lPPqqssoYohD",
        "colab_type": "code",
        "colab": {}
      },
      "source": [
        "from pathlib import Path\n",
        "\n",
        "\n",
        "def extract_data(path_to_review, label):\n",
        "\n",
        "    with path_to_review.open('r') as review_file:\n",
        "        review_data = review_file.read()\n",
        "    text = review_data.replace(\"\\n\", \" \")\n",
        "    text = strip_formatting(text)\n",
        "    fasttext_line = \"__label__{} {}\".format(label, text)\n",
        "    return fasttext_line + \"\\n\"\n",
        "\n",
        "\n",
        "def prepare_dataset(base_path, out_path):\n",
        "    reviews = ''\n",
        "    classes = {\"pos\": 1, \"neg\": 0}\n",
        "    i = 0\n",
        "    for cl, v in classes.items():\n",
        "        for review_filename in base_path.joinpath(cl).glob(\"*.txt\"):\n",
        "            text = extract_data(review_filename, v)\n",
        "            reviews = reviews + text\n",
        "            i += 1\n",
        "            if i % 1000 == 0:\n",
        "                print('review: {}'.format(i))\n",
        "    with out_path.open('w+') as out:\n",
        "        out.write(reviews)   \n",
        "  \n",
        "\n",
        "prepare_dataset(training_path, train_file)\n",
        "prepare_dataset(test_path, test_file)\n"
      ],
      "execution_count": 0,
      "outputs": []
    },
    {
      "cell_type": "code",
      "metadata": {
        "id": "P1NdWL79W5mI",
        "colab_type": "code",
        "colab": {}
      },
      "source": [
        "import random\n",
        "\n",
        "with train_file.open('r') as f:\n",
        "  lines = f.readlines()\n",
        "\n",
        "random.shuffle(lines)\n",
        "\n",
        "shuffled_training_data = 'fasttext_imdb_training_shuffled.txt'\n",
        "\n",
        "with open(shuffled_training_data, 'w') as f:\n",
        "    for line in lines:\n",
        "        f.write(\"%s\\n\" % line)\n"
      ],
      "execution_count": 0,
      "outputs": []
    },
    {
      "cell_type": "code",
      "metadata": {
        "id": "yA8WtgwucIxD",
        "colab_type": "code",
        "colab": {}
      },
      "source": [
        "model = fasttext.train_supervised(shuffled_training_data, word_ngrams=2)\n"
      ],
      "execution_count": 0,
      "outputs": []
    },
    {
      "cell_type": "code",
      "metadata": {
        "id": "c0c-Qaoc1tyC",
        "colab_type": "code",
        "colab": {}
      },
      "source": [
        "model_name = 'fasttext_imdb_model.bin'\n",
        "model.save_model(model_name)"
      ],
      "execution_count": 0,
      "outputs": []
    },
    {
      "cell_type": "markdown",
      "metadata": {
        "id": "cMC1FrwnKH0q",
        "colab_type": "text"
      },
      "source": [
        "### Predicciones sobre el modelo\n",
        "\n",
        "Con el modelo creado y almacenado en disco, ahora es posible realizar predicciones sobre nuevos reviews para identificar automáticamente el número de estrellas que el modelo asignaría a los reviews. Es importante que para los nuevos reviews se haga un pre-procesamiento de los datos para dejarlos en el formato que exige la librería"
      ]
    },
    {
      "cell_type": "code",
      "metadata": {
        "id": "osXeCqK3He-4",
        "colab_type": "code",
        "outputId": "d37d8483-5467-4706-a3ba-968b03e8d107",
        "colab": {
          "base_uri": "https://localhost:8080/",
          "height": 187
        }
      },
      "source": [
        "# Reviews to check\n",
        "reviews = [\n",
        "    \"This restaurant literally changed my life. This is the best food I've ever eaten!\",\n",
        "    \"I hate this place so much. They were mean to me.\",\n",
        "    \"I don't know. It was ok, I guess. Not really sure what to say.\"\n",
        "]\n",
        "\n",
        "# Pre-process the text of each review so it matches the training format\n",
        "preprocessed_reviews = list(map(strip_formatting, reviews))\n",
        "\n",
        "# Load the model\n",
        "classifier = fasttext.load_model(model_name)\n",
        "\n",
        "# Get fastText to classify each review with the model\n",
        "labels, probabilities = classifier.predict(preprocessed_reviews, 1)\n",
        "\n",
        "# Print the results\n",
        "for review, label, probability in zip(reviews, labels, probabilities):\n",
        "    pred = int(label[0][-1])\n",
        "\n",
        "    print(\"{} review ({}% confidence)\".format('positive' if pred == 1 else 'negative', int(probability[0] * 100)))\n",
        "    print(review)\n",
        "    print()"
      ],
      "execution_count": 0,
      "outputs": [
        {
          "output_type": "stream",
          "text": [
            "positive review (99% confidence)\n",
            "This restaurant literally changed my life. This is the best food I've ever eaten!\n",
            "\n",
            "negative review (99% confidence)\n",
            "I hate this place so much. They were mean to me.\n",
            "\n",
            "negative review (93% confidence)\n",
            "I don't know. It was ok, I guess. Not really sure what to say.\n",
            "\n"
          ],
          "name": "stdout"
        },
        {
          "output_type": "stream",
          "text": [
            "\n"
          ],
          "name": "stderr"
        }
      ]
    },
    {
      "cell_type": "markdown",
      "metadata": {
        "id": "Vpzt7068LMiZ",
        "colab_type": "text"
      },
      "source": [
        "### Descarga del modelo\n",
        "\n",
        "La siguiente instrucción realiza la descarga del modelo"
      ]
    },
    {
      "cell_type": "code",
      "metadata": {
        "id": "I0_MW-IW5qvu",
        "colab_type": "code",
        "outputId": "eb438037-dcb0-49b2-8fe3-0f78795ba1e7",
        "colab": {
          "base_uri": "https://localhost:8080/",
          "height": 442
        }
      },
      "source": [
        "\n",
        "try:\n",
        "  from google.colab import files\n",
        "except ImportError:\n",
        "  pass\n",
        "else:\n",
        "  files.download(model_name) "
      ],
      "execution_count": 0,
      "outputs": [
        {
          "output_type": "stream",
          "text": [
            "----------------------------------------\n",
            "Exception happened during processing of request from ('::ffff:127.0.0.1', 47736, 0, 0)\n",
            "Traceback (most recent call last):\n",
            "  File \"/usr/lib/python3.6/socketserver.py\", line 320, in _handle_request_noblock\n",
            "    self.process_request(request, client_address)\n",
            "  File \"/usr/lib/python3.6/socketserver.py\", line 351, in process_request\n",
            "    self.finish_request(request, client_address)\n",
            "  File \"/usr/lib/python3.6/socketserver.py\", line 364, in finish_request\n",
            "    self.RequestHandlerClass(request, client_address, self)\n",
            "  File \"/usr/lib/python3.6/socketserver.py\", line 724, in __init__\n",
            "    self.handle()\n",
            "  File \"/usr/lib/python3.6/http/server.py\", line 418, in handle\n",
            "    self.handle_one_request()\n",
            "  File \"/usr/lib/python3.6/http/server.py\", line 406, in handle_one_request\n",
            "    method()\n",
            "  File \"/usr/lib/python3.6/http/server.py\", line 639, in do_GET\n",
            "    self.copyfile(f, self.wfile)\n",
            "  File \"/usr/lib/python3.6/http/server.py\", line 800, in copyfile\n",
            "    shutil.copyfileobj(source, outputfile)\n",
            "  File \"/usr/lib/python3.6/shutil.py\", line 82, in copyfileobj\n",
            "    fdst.write(buf)\n",
            "  File \"/usr/lib/python3.6/socketserver.py\", line 803, in write\n",
            "    self._sock.sendall(b)\n",
            "ConnectionResetError: [Errno 104] Connection reset by peer\n",
            "----------------------------------------\n"
          ],
          "name": "stderr"
        }
      ]
    },
    {
      "cell_type": "markdown",
      "metadata": {
        "id": "G6woQfghLjIF",
        "colab_type": "text"
      },
      "source": [
        "### ¿Qué tan bueno es el modelo para realizar predicciones?\n",
        "\n",
        "El siguiente paso es determinar la capacidad del modelo para hacer predicciones sobre reviews que no ha visto. Para esto se usa el conjunto de datos de prueba"
      ]
    },
    {
      "cell_type": "code",
      "metadata": {
        "id": "gRT4GyyOL7__",
        "colab_type": "code",
        "outputId": "16f49227-bfac-4b20-87f6-b181df0b5053",
        "colab": {
          "base_uri": "https://localhost:8080/",
          "height": 34
        }
      },
      "source": [
        "eval = classifier.test(test_file.name)\n",
        "print(eval)"
      ],
      "execution_count": 0,
      "outputs": [
        {
          "output_type": "stream",
          "text": [
            "(25000, 0.84664, 0.84664)\n"
          ],
          "name": "stdout"
        }
      ]
    },
    {
      "cell_type": "markdown",
      "metadata": {
        "id": "QPgDQPTqiadU",
        "colab_type": "text"
      },
      "source": [
        "El resultado nos dice que se evaluaron 25000 reviews, de las cuales el modelo dice que el 84% de ellas fueron exactamente bien clasificadas como positivas o negativas. "
      ]
    },
    {
      "cell_type": "code",
      "metadata": {
        "id": "hke1D54Lk3aA",
        "colab_type": "code",
        "colab": {}
      },
      "source": [
        ""
      ],
      "execution_count": 0,
      "outputs": []
    }
  ]
}